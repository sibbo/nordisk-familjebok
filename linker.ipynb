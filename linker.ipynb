{
 "cells": [
  {
   "cell_type": "markdown",
   "metadata": {},
   "source": [
    "# Linking articles between editions"
   ]
  },
  {
   "cell_type": "code",
   "execution_count": 1,
   "metadata": {},
   "outputs": [],
   "source": [
    "from neural_searcher import NeuralSearcher\n",
    "from qdrant_client import QdrantClient\n",
    "\n",
    "e1 = 'e1'\n",
    "e2 = 'e2'\n"
   ]
  },
  {
   "cell_type": "code",
   "execution_count": 33,
   "metadata": {},
   "outputs": [
    {
     "name": "stdout",
     "output_type": "stream",
     "text": [
      "{'entryid': 'e2_bh_470_8', 'first_edition_key': '', 'fourth_edition_key': '', 'headword': 'Formidabel', 'qid': '0', 'text': '<b>Formidabel</b> (fr. <i>formidable</i>, lat. <i>formidabilis</i>, af <i>formido</i>, fruktan, fasa), fruktansvärd, förfärlig.', 'type': 0}\n",
      "{'entryid': 'e2_bk_598_23', 'first_edition_key': '', 'fourth_edition_key': '', 'headword': 'Horribel', 'qid': '0', 'text': '<b>Horribel</b> (fr. <i>horrible,</i> lat. <i>horribilis,</i> af <i>horrere,</i> rysa), ryslig, förfärlig, oerhörd.', 'type': 0}\n",
      "{'entryid': 'e2_ch_505_1', 'first_edition_key': '', 'fourth_edition_key': '', 'headword': 'Terribel', 'qid': '0', 'text': '<b>Terribel</b> (fr. <i>terrible</i>), förskräcklig, faslig. Se vidare under Enfant.', 'type': 0}\n",
      "{'entryid': 'e2_bb_203_4', 'first_edition_key': '', 'fourth_edition_key': '', 'headword': 'Atrocitet', 'qid': '0', 'text': '<b>Atrocitet</b> (lat. <i>atrocitas</i>), grymhet, ohygglighet.', 'type': 0}\n",
      "{'entryid': 'e2_bk_599_2', 'first_edition_key': '', 'fourth_edition_key': '', 'headword': 'Horrör', 'qid': '0', 'text': '<b>Horrör</b> (fr. <i>horreur</i>), fasa, afsky; hvad som väcker fasa, ryslighet.', 'type': 0}\n"
     ]
    }
   ],
   "source": [
    "client = QdrantClient(host=\"localhost\", port=6333)\n",
    "\n",
    "neural_searcher_e2 = NeuralSearcher(collection_name=e2)\n",
    "\n",
    "vectors = client.scroll(collection_name=e1, with_payload=True, with_vectors=True)\n",
    "    \n",
    "for entry in vectors[0]:\n",
    "    # Process each vector\n",
    "    result = neural_searcher_e2.search(entry.vector)\n",
    "    for x in result:\n",
    "        print(x)\n",
    "    break\n",
    "   "
   ]
  },
  {
   "cell_type": "code",
   "execution_count": null,
   "metadata": {},
   "outputs": [],
   "source": [
    "\n",
    "# Go through e1\n",
    "#   for every article, search for c\n",
    "\n",
    "# for each article in e2, compare text to qdrant e1, get closest matches\n",
    "# For the closest match, calculate cosine similarity, compare headword, edit-distance, \n",
    "# other features, threshold function.\n",
    "# If match, change in e1 and e2, other edition key to match"
   ]
  },
  {
   "cell_type": "code",
   "execution_count": null,
   "metadata": {},
   "outputs": [],
   "source": []
  }
 ],
 "metadata": {
  "kernelspec": {
   "display_name": "base",
   "language": "python",
   "name": "python3"
  },
  "language_info": {
   "codemirror_mode": {
    "name": "ipython",
    "version": 3
   },
   "file_extension": ".py",
   "mimetype": "text/x-python",
   "name": "python",
   "nbconvert_exporter": "python",
   "pygments_lexer": "ipython3",
   "version": "3.11.4"
  }
 },
 "nbformat": 4,
 "nbformat_minor": 2
}
