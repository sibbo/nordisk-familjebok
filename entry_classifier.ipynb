{
 "cells": [
  {
   "cell_type": "code",
   "execution_count": 11,
   "metadata": {},
   "outputs": [],
   "source": [
    "import json\n",
    "import numpy as np\n",
    "from sklearn.linear_model import LogisticRegression\n",
    "from sklearn.model_selection import train_test_split\n",
    "from sklearn.metrics import accuracy_score\n"
   ]
  },
  {
   "cell_type": "code",
   "execution_count": 16,
   "metadata": {},
   "outputs": [
    {
     "name": "stdout",
     "output_type": "stream",
     "text": [
      "[[1, 'Kromat, <i>kem</i>., kromsyrans salter. Se Krom.', 1, 0, 0, 0, 0, 0], [0, 'e Krom.. ', 0, 0, 0, 0, 0, 0], [1, 'Kromatgelatin [-sjelatin]. Se Kromgelatin.', 0, 1, 1, 0, 0, 0], [0, 'e Kromgelatin.. ', 0, 0, 0, 0, 0, 0], [1, 'Kromatik (se Kromatisk), färglära; <i>mus</i>., (ymnigt) användande af kromatiska tonföljder.', 0, 0, 0, 1, 1, 0]]\n"
     ]
    }
   ],
   "source": [
    "# load json\n",
    "with open('training_data.json', 'r', encoding='utf-8') as infile:\n",
    "    json_items = json.loads(infile.read())\n",
    "\n",
    "item_values = []\n",
    "\n",
    "for item in json_items:\n",
    "    item_class = item['class']\n",
    "    text = item['text']\n",
    "    punctuation_after_first_word = item['punctuation_after_first_word']\n",
    "    square_bracket = item['square_bracket']\n",
    "    square_bracket_with_punctuation = item['square_bracket_with_punctuation']\n",
    "    parentheses = item['parentheses']\n",
    "    parentheses_with_punctuation = item['parentheses_with_punctuation']\n",
    "    category_word = item['category_word']\n",
    "    values = [item_class, text, punctuation_after_first_word, square_bracket, \n",
    "        square_bracket_with_punctuation, parentheses, parentheses_with_punctuation,\n",
    "        category_word\n",
    "            ]\n",
    "    item_values.append(values)\n",
    "\n",
    "print(item_values[:5])"
   ]
  },
  {
   "cell_type": "code",
   "execution_count": 17,
   "metadata": {},
   "outputs": [],
   "source": [
    "# convert to feature matrix and y vector\n",
    "# all key-value pairs should be included except for text\n",
    "# class becomes the y vector\n",
    "X = np.array([])\n",
    "y = np.array([])\n",
    "\n",
    "for values in item_values:\n",
    "    X = np.vstack([X, values[2:]]) if X.size else np.array(values[2:])\n",
    "    y = np.append(y, values[0])\n",
    "\n",
    "# Split dataset into training and testing sets\n",
    "X_train, X_test, y_train, y_test = train_test_split(X, y, test_size=0.2, random_state=42)"
   ]
  },
  {
   "cell_type": "code",
   "execution_count": 18,
   "metadata": {},
   "outputs": [
    {
     "name": "stdout",
     "output_type": "stream",
     "text": [
      "(16130, 6)\n",
      "(16130,)\n"
     ]
    }
   ],
   "source": [
    "print(X.shape)\n",
    "print(y.shape)"
   ]
  },
  {
   "cell_type": "code",
   "execution_count": 19,
   "metadata": {},
   "outputs": [
    {
     "name": "stdout",
     "output_type": "stream",
     "text": [
      "[[1.56681863 2.19881121 0.29867328 1.38432089 0.3459194  0.28483937]]\n",
      "Accuracy: 0.8499690018598884\n"
     ]
    }
   ],
   "source": [
    "# Create a logistic regression model\n",
    "logistic_regression_model = LogisticRegression()\n",
    "\n",
    "# Fit the model to the training data\n",
    "logistic_regression_model.fit(X_train, y_train)\n",
    "print(np.abs(logistic_regression_model.coef_))\n",
    "\n",
    "# Predict on the testing data\n",
    "predictions = logistic_regression_model.predict(X_test)\n",
    "\n",
    "# Evaluate the model\n",
    "accuracy = accuracy_score(y_test, predictions)\n",
    "print(\"Accuracy:\", accuracy) \n",
    "# evaluate with f1-score, confusion matrix on test set"
   ]
  }
 ],
 "metadata": {
  "kernelspec": {
   "display_name": "Python 3",
   "language": "python",
   "name": "python3"
  },
  "language_info": {
   "codemirror_mode": {
    "name": "ipython",
    "version": 3
   },
   "file_extension": ".py",
   "mimetype": "text/x-python",
   "name": "python",
   "nbconvert_exporter": "python",
   "pygments_lexer": "ipython3",
   "version": "3.11.4"
  }
 },
 "nbformat": 4,
 "nbformat_minor": 2
}
