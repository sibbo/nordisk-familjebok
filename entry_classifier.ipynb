{
 "cells": [
  {
   "cell_type": "code",
   "execution_count": 1,
   "metadata": {},
   "outputs": [],
   "source": [
    "import json"
   ]
  },
  {
   "cell_type": "code",
   "execution_count": 3,
   "metadata": {},
   "outputs": [
    {
     "name": "stdout",
     "output_type": "stream",
     "text": [
      "[{'class': 1, 'text': 'Kromat, <i>kem</i>., kromsyrans salter. Se Krom.', 'punctuation_after_first_word': 1, 'square_bracket': 0, 'square_bracket_with_punctuation': 0, 'parentheses': 0, 'parentheses_with_punctuation': 0, 'category_word': 0}, {'class': 1, 'text': 'Kromatgelatin [-sjelatin]. Se Kromgelatin.', 'punctuation_after_first_word': 0, 'square_bracket': 1, 'square_bracket_with_punctuation': 1, 'parentheses': 0, 'parentheses_with_punctuation': 0, 'category_word': 0}, {'class': 1, 'text': 'Kromatik (se Kromatisk), färglära; <i>mus</i>., (ymnigt) användande af kromatiska tonföljder.', 'punctuation_after_first_word': 0, 'square_bracket': 0, 'square_bracket_with_punctuation': 0, 'parentheses': 1, 'parentheses_with_punctuation': 1, 'category_word': 0}, {'class': 1, 'text': 'Kromatinkorn, bot. Se Cell, sp. 1389.', 'punctuation_after_first_word': 1, 'square_bracket': 0, 'square_bracket_with_punctuation': 0, 'parentheses': 0, 'parentheses_with_punctuation': 0, 'category_word': 1}, {'class': 1, 'text': 'Kromatinnät, bot. Se Cell, sp. 1389.', 'punctuation_after_first_word': 1, 'square_bracket': 0, 'square_bracket_with_punctuation': 0, 'parentheses': 0, 'parentheses_with_punctuation': 0, 'category_word': 1}]\n"
     ]
    }
   ],
   "source": [
    "# load json\n",
    "with open('training_data.json', 'r', encoding='utf-8') as infile:\n",
    "    raw_data = json.loads(infile.read())\n",
    "\n",
    "print(raw_data[:5])"
   ]
  },
  {
   "cell_type": "code",
   "execution_count": null,
   "metadata": {},
   "outputs": [],
   "source": [
    "# convert to feature matrix and y vector\n",
    "# all key-value pairs should be included except for text\n",
    "# class becomes the y vector"
   ]
  },
  {
   "cell_type": "code",
   "execution_count": null,
   "metadata": {},
   "outputs": [],
   "source": [
    "# scale (normalize)\n",
    "\n",
    "# use sklearn logistic regression class\n",
    "\n",
    "# evaluate with f1-score, confusion matrix on test set"
   ]
  }
 ],
 "metadata": {
  "kernelspec": {
   "display_name": "Python 3",
   "language": "python",
   "name": "python3"
  },
  "language_info": {
   "codemirror_mode": {
    "name": "ipython",
    "version": 3
   },
   "file_extension": ".py",
   "mimetype": "text/x-python",
   "name": "python",
   "nbconvert_exporter": "python",
   "pygments_lexer": "ipython3",
   "version": "3.10.3"
  }
 },
 "nbformat": 4,
 "nbformat_minor": 2
}
