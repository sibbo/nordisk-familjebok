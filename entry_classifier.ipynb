{
 "cells": [
  {
   "cell_type": "code",
   "execution_count": 53,
   "metadata": {},
   "outputs": [],
   "source": [
    "import json\n",
    "import numpy as np\n",
    "from sklearn.linear_model import LogisticRegression\n",
    "from sklearn.model_selection import train_test_split\n",
    "from sklearn.metrics import accuracy_score, confusion_matrix"
   ]
  },
  {
   "cell_type": "code",
   "execution_count": 54,
   "metadata": {},
   "outputs": [
    {
     "name": "stdout",
     "output_type": "stream",
     "text": [
      "[[1, 'Kromatik (se Kromatisk), färglära; <i>mus</i>., (ymnigt) användande af kromatiska tonföljder.', 0, 0, 0, 1, 1, 0], [1, 'Kromatisk (af grek. <i>chroma</i>, färg, modulation), eg. färgad. - 1. <i>Mus</i>. Ett klangsläkte, hvars tetrakord bestodo af två halftoner och en liten ters, t. ex. <i>a b h d</i>, kallades a', 0, 0, 0, 1, 0, 1], [1, 'Kromatisk adaptation, <i>bot</i>., vissa algers (<i>Oscillatoria</i>) förmåga att antaga komplementfärgen till färgen af det ljus, i hvilket de odlas.  G. L-m.', 0, 0, 0, 0, 0, 0], [1, \"Kromatoforer (af grek. <i>chroma</i>, färg, och <i>fo'ros</i>, bärare), bot. Se Cell, sp. 1390.\", 0, 0, 0, 1, 0, 1], [1, \"Kromatolys (af grek. <i>chroma</i>, färg, och <i>ly'sis</i>, upplösning), <i>anat</i>., förlust af cellkärnans färgbara innehåll (kromatin), hvarpå kan följa ett försvinnande af cellens kärna (\", 0, 0, 0, 1, 0, 0]]\n"
     ]
    }
   ],
   "source": [
    "# load json\n",
    "with open('training_data.json', 'r', encoding='utf-8') as infile:\n",
    "    json_items = json.loads(infile.read())\n",
    "\n",
    "item_values = []\n",
    "\n",
    "for item in json_items:\n",
    "    item_class = item['class']\n",
    "    text = item['text']\n",
    "    punctuation_after_first_word = item['punctuation_after_first_word']\n",
    "    square_bracket = item['square_bracket']\n",
    "    square_bracket_with_punctuation = item['square_bracket_with_punctuation']\n",
    "    parentheses = item['parentheses']\n",
    "    parentheses_with_punctuation = item['parentheses_with_punctuation']\n",
    "    category_word = item['category_word']\n",
    "    values = [item_class, text, punctuation_after_first_word, square_bracket, \n",
    "        square_bracket_with_punctuation, parentheses, parentheses_with_punctuation,\n",
    "        category_word\n",
    "            ]\n",
    "    item_values.append(values)\n",
    "\n",
    "print(item_values[:5])"
   ]
  },
  {
   "cell_type": "code",
   "execution_count": 55,
   "metadata": {},
   "outputs": [],
   "source": [
    "# convert to feature matrix and y vector\n",
    "# all key-value pairs should be included except for text\n",
    "# class becomes the y vector\n",
    "X = np.array([])\n",
    "y = np.array([])\n",
    "\n",
    "for values in item_values:\n",
    "    X = np.vstack([X, values[2:]]) if X.size else np.array(values[2:])\n",
    "    y = np.append(y, values[0])\n",
    "\n",
    "# Split dataset into training and testing sets\n",
    "X_train, X_test, y_train, y_test = train_test_split(X, y, test_size=0.2, random_state=42)"
   ]
  },
  {
   "cell_type": "code",
   "execution_count": 56,
   "metadata": {},
   "outputs": [
    {
     "name": "stdout",
     "output_type": "stream",
     "text": [
      "(4713, 6)\n",
      "(4713,)\n"
     ]
    }
   ],
   "source": [
    "print(X.shape)\n",
    "print(y.shape)"
   ]
  },
  {
   "cell_type": "code",
   "execution_count": 57,
   "metadata": {},
   "outputs": [
    {
     "name": "stdout",
     "output_type": "stream",
     "text": [
      "[[2.22800585 2.76371542 2.11287943 3.27566288 0.28374996 2.12168813]]\n",
      "Accuracy: 0.8674443266171792\n"
     ]
    },
    {
     "data": {
      "text/plain": [
       "array([[127,  51],\n",
       "       [ 74, 691]], dtype=int64)"
      ]
     },
     "execution_count": 57,
     "metadata": {},
     "output_type": "execute_result"
    }
   ],
   "source": [
    "# Create a logistic regression model\n",
    "logistic_regression_model = LogisticRegression()\n",
    "\n",
    "# Fit the model to the training data\n",
    "logistic_regression_model.fit(X_train, y_train)\n",
    "print(np.abs(logistic_regression_model.coef_))\n",
    "\n",
    "# Predict on the testing data\n",
    "predictions = logistic_regression_model.predict(X_test)\n",
    "\n",
    "# Evaluate the model\n",
    "accuracy = accuracy_score(y_test, predictions)\n",
    "print(\"Accuracy:\", accuracy) \n",
    "# evaluate with f1-score, confusion matrix on test set\n",
    "\n",
    "confusion_matrix(y_true=y_test, y_pred=predictions)"
   ]
  },
  {
   "cell_type": "code",
   "execution_count": 58,
   "metadata": {},
   "outputs": [
    {
     "data": {
      "text/plain": [
       "[array([1., 0., 0., 0., 0., 0., 1.]),\n",
       " array([0., 0., 0., 0., 0., 0., 0.]),\n",
       " array([1., 0., 0., 0., 0., 0., 1.]),\n",
       " array([0., 0., 0., 0., 0., 0., 0.]),\n",
       " array([1., 0., 0., 1., 0., 0., 1.]),\n",
       " array([0., 0., 0., 1., 0., 0., 1.]),\n",
       " array([0., 0., 0., 0., 0., 0., 0.]),\n",
       " array([1., 0., 0., 0., 0., 0., 1.]),\n",
       " array([1., 0., 0., 0., 0., 0., 1.]),\n",
       " array([1., 0., 0., 0., 0., 0., 1.]),\n",
       " array([0., 0., 0., 0., 0., 0., 0.]),\n",
       " array([0., 0., 0., 0., 0., 0., 0.]),\n",
       " array([1., 0., 0., 0., 0., 0., 1.]),\n",
       " array([0., 0., 0., 0., 0., 0., 0.]),\n",
       " array([0., 0., 0., 0., 0., 0., 0.]),\n",
       " array([0., 1., 0., 0., 0., 0., 1.]),\n",
       " array([0., 0., 0., 0., 0., 1., 1.]),\n",
       " array([1., 0., 0., 0., 0., 0., 1.]),\n",
       " array([1., 0., 0., 1., 0., 0., 1.]),\n",
       " array([0., 0., 0., 0., 0., 0., 0.]),\n",
       " array([1., 0., 0., 0., 0., 0., 1.]),\n",
       " array([0., 0., 0., 0., 0., 1., 1.]),\n",
       " array([0., 0., 0., 0., 0., 0., 0.]),\n",
       " array([1., 0., 0., 0., 0., 0., 1.]),\n",
       " array([0., 0., 0., 0., 0., 0., 0.]),\n",
       " array([0., 0., 0., 1., 0., 0., 1.]),\n",
       " array([0., 0., 0., 0., 0., 0., 0.]),\n",
       " array([0., 0., 0., 0., 0., 0., 0.]),\n",
       " array([1., 0., 0., 0., 0., 0., 1.]),\n",
       " array([0., 0., 0., 0., 0., 0., 0.]),\n",
       " array([1., 0., 0., 0., 0., 0., 1.]),\n",
       " array([0., 0., 0., 1., 0., 0., 1.]),\n",
       " array([0., 0., 0., 0., 0., 0., 0.]),\n",
       " array([1., 0., 0., 0., 0., 0., 1.]),\n",
       " array([0., 0., 0., 0., 0., 0., 0.]),\n",
       " array([0., 0., 0., 1., 1., 0., 1.]),\n",
       " array([0., 0., 0., 0., 0., 0., 0.]),\n",
       " array([0., 0., 0., 0., 0., 1., 1.]),\n",
       " array([0., 0., 0., 0., 0., 0., 0.]),\n",
       " array([0., 0., 0., 0., 0., 0., 0.]),\n",
       " array([0., 0., 0., 0., 0., 0., 0.]),\n",
       " array([0., 0., 0., 0., 0., 0., 0.]),\n",
       " array([0., 0., 0., 0., 0., 0., 0.]),\n",
       " array([0., 0., 0., 0., 0., 0., 0.]),\n",
       " array([0., 0., 0., 0., 0., 0., 0.]),\n",
       " array([1., 0., 0., 0., 0., 0., 1.]),\n",
       " array([0., 0., 0., 0., 0., 0., 0.]),\n",
       " array([1., 0., 0., 0., 0., 0., 1.]),\n",
       " array([0., 0., 0., 0., 0., 0., 0.]),\n",
       " array([0., 1., 0., 0., 0., 0., 1.]),\n",
       " array([1., 0., 0., 0., 0., 0., 1.]),\n",
       " array([0., 0., 0., 1., 0., 0., 1.]),\n",
       " array([0., 0., 0., 0., 0., 0., 0.]),\n",
       " array([1., 0., 0., 0., 0., 0., 1.]),\n",
       " array([0., 0., 0., 0., 0., 0., 0.]),\n",
       " array([0., 0., 0., 0., 0., 0., 0.]),\n",
       " array([0., 0., 0., 0., 0., 0., 0.]),\n",
       " array([0., 0., 0., 0., 0., 0., 0.]),\n",
       " array([0., 0., 0., 0., 0., 0., 0.]),\n",
       " array([1., 0., 0., 0., 0., 0., 1.]),\n",
       " array([0., 0., 0., 0., 0., 0., 0.]),\n",
       " array([0., 0., 0., 0., 0., 0., 0.]),\n",
       " array([0., 0., 0., 0., 0., 0., 0.]),\n",
       " array([0., 0., 0., 0., 0., 0., 0.]),\n",
       " array([1., 0., 0., 0., 0., 0., 1.]),\n",
       " array([0., 0., 0., 0., 0., 0., 0.]),\n",
       " array([0., 0., 0., 0., 0., 0., 0.]),\n",
       " array([0., 0., 0., 0., 0., 0., 0.]),\n",
       " array([1., 0., 0., 0., 0., 0., 1.]),\n",
       " array([0., 0., 0., 0., 0., 0., 0.]),\n",
       " array([1., 0., 0., 0., 0., 0., 1.]),\n",
       " array([0., 0., 0., 0., 0., 0., 0.]),\n",
       " array([1., 0., 0., 0., 0., 0., 1.]),\n",
       " array([1., 0., 0., 0., 0., 0., 1.]),\n",
       " array([0., 0., 0., 0., 0., 0., 0.]),\n",
       " array([0., 0., 0., 0., 0., 0., 0.]),\n",
       " array([0., 0., 0., 0., 0., 0., 0.]),\n",
       " array([0., 0., 0., 0., 0., 0., 0.]),\n",
       " array([0., 0., 0., 0., 0., 0., 0.]),\n",
       " array([1., 0., 0., 0., 0., 0., 1.]),\n",
       " array([0., 0., 0., 0., 0., 0., 0.]),\n",
       " array([0., 0., 0., 0., 0., 0., 0.]),\n",
       " array([0., 0., 0., 0., 0., 0., 0.]),\n",
       " array([0., 0., 0., 0., 0., 0., 0.]),\n",
       " array([0., 0., 0., 0., 0., 0., 0.]),\n",
       " array([0., 0., 0., 0., 0., 0., 0.]),\n",
       " array([0., 0., 0., 0., 0., 0., 0.]),\n",
       " array([0., 0., 0., 0., 0., 0., 0.]),\n",
       " array([0., 0., 0., 0., 0., 0., 0.]),\n",
       " array([0., 0., 0., 1., 0., 0., 1.]),\n",
       " array([0., 0., 0., 0., 0., 0., 0.]),\n",
       " array([1., 0., 0., 0., 0., 0., 1.]),\n",
       " array([0., 0., 0., 0., 0., 1., 1.]),\n",
       " array([1., 0., 0., 0., 0., 1., 1.]),\n",
       " array([0., 0., 0., 0., 0., 0., 0.]),\n",
       " array([0., 0., 0., 0., 0., 0., 0.]),\n",
       " array([1., 0., 0., 0., 0., 0., 1.]),\n",
       " array([1., 0., 0., 0., 0., 0., 1.]),\n",
       " array([0., 0., 0., 0., 0., 0., 0.]),\n",
       " array([0., 0., 0., 0., 0., 0., 0.]),\n",
       " array([0., 0., 0., 0., 0., 0., 0.]),\n",
       " array([0., 0., 0., 0., 0., 0., 0.]),\n",
       " array([1., 0., 0., 0., 0., 0., 1.]),\n",
       " array([0., 0., 0., 1., 1., 1., 1.]),\n",
       " array([0., 0., 0., 0., 0., 0., 0.]),\n",
       " array([0., 0., 0., 0., 0., 0., 0.]),\n",
       " array([0., 0., 0., 0., 0., 0., 0.]),\n",
       " array([1., 0., 0., 0., 0., 0., 1.]),\n",
       " array([0., 0., 0., 0., 0., 0., 0.]),\n",
       " array([0., 0., 0., 0., 0., 0., 0.]),\n",
       " array([0., 0., 0., 0., 0., 0., 0.]),\n",
       " array([0., 0., 0., 0., 0., 0., 0.]),\n",
       " array([0., 0., 0., 0., 0., 0., 0.]),\n",
       " array([1., 0., 0., 0., 0., 0., 1.]),\n",
       " array([0., 0., 0., 0., 0., 0., 0.]),\n",
       " array([1., 0., 0., 0., 0., 0., 1.]),\n",
       " array([0., 0., 0., 0., 0., 1., 1.]),\n",
       " array([0., 0., 0., 0., 0., 0., 0.]),\n",
       " array([1., 0., 0., 0., 0., 0., 1.]),\n",
       " array([0., 0., 0., 0., 0., 0., 0.]),\n",
       " array([1., 0., 0., 0., 0., 0., 1.]),\n",
       " array([0., 0., 0., 0., 0., 0., 0.]),\n",
       " array([0., 0., 0., 1., 1., 0., 1.]),\n",
       " array([0., 0., 0., 0., 0., 0., 0.]),\n",
       " array([0., 0., 0., 1., 0., 0., 1.])]"
      ]
     },
     "execution_count": 58,
     "metadata": {},
     "output_type": "execute_result"
    }
   ],
   "source": [
    "# check the data that was misclassified\n",
    "\n",
    "misclassified = y_test - predictions\n",
    "\n",
    "non_zero_indices = [index for index, value in enumerate(misclassified) if value != 0]\n",
    "\n",
    "hej = [np.append(X_test[i], predictions[i]) for i in non_zero_indices]\n",
    "hej"
   ]
  }
 ],
 "metadata": {
  "kernelspec": {
   "display_name": "Python 3",
   "language": "python",
   "name": "python3"
  },
  "language_info": {
   "codemirror_mode": {
    "name": "ipython",
    "version": 3
   },
   "file_extension": ".py",
   "mimetype": "text/x-python",
   "name": "python",
   "nbconvert_exporter": "python",
   "pygments_lexer": "ipython3",
   "version": "3.10.3"
  }
 },
 "nbformat": 4,
 "nbformat_minor": 2
}
