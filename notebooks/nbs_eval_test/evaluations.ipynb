{
 "cells": [
  {
   "cell_type": "markdown",
   "metadata": {},
   "source": [
    "# Evaluation of methods\n",
    "- Contains evaluations of: Segmentations, postprocessing order removal, postprocessing cross-reference linking"
   ]
  },
  {
   "cell_type": "code",
   "execution_count": null,
   "metadata": {},
   "outputs": [],
   "source": [
    "import os\n",
    "os.chdir('../../')\n",
    "print(os.getcwd())\n",
    "\n",
    "from utils import json_helpers as jh\n",
    "from utils.paths import *\n",
    "import geopy.distance\n",
    "#from scraping_and_segmenting_helpers import *\n",
    "\n",
    "# Statistics paths\n",
    "E1_SEGMENTER_STATS = f'{SEGMENTER_STATS_FOLDER}/stats_segmenter_e1.txt'\n",
    "E2_SEGMENTER_STATS = f'{SEGMENTER_STATS_FOLDER}/stats_segmenter_e2.txt'\n",
    "\n",
    "E1_ORDER_STATS = f'{ORDER_STATS_FOLDER}/e1_order_removal_precision.txt'\n",
    "E2_ORDER_STATS = f'{ORDER_STATS_FOLDER}/e2_order_removal_precision.txt'\n",
    "\n",
    "E1_CROSS_STATS = f'{CROSS_STATS_FOLDER}/e1_links_recall'\n",
    "E2_CROSS_STATS = f'{CROSS_STATS_FOLDER}/e2_links_recall'\n",
    "\n",
    "E1_LOCATION_STATS = f'{LOCATIONS_STATS_FOLDER}/e1_location_recall.txt'\n",
    "E2_LOCATION_STATS = f'{LOCATIONS_STATS_FOLDER}/e2_location_recall.txt'\n",
    "\n",
    "# Test data paths\n",
    "E1_SEGMENTER_TEST = f'{SEGMENTER_TEST_FOLDER}/e1_test_segmenter'\n",
    "E2_SEGMENTER_TEST = f'{SEGMENTER_TEST_FOLDER}/e2_test_segmenter'\n",
    "\n",
    "E1_ORDER_TEST = f'{ORDER_TEST_FOLDER}/e1_test_order'\n",
    "E2_ORDER_TEST = f'{ORDER_TEST_FOLDER}/e2_test_order'\n",
    "\n",
    "E1_CROSS_TEST = f'{CROSS_TEST_FOLDER}/e1_test_links'\n",
    "E2_CROSS_TEST = f'{CROSS_TEST_FOLDER}/e2_test_links'\n",
    "\n",
    "E1_LOCATION_TEST = f'{LOCATIONS_TEST_FOLDER}/e1_test_locations'\n",
    "E2_LOCATION_TEST = f'{LOCATIONS_TEST_FOLDER}/e2_test_locations'\n",
    "\n",
    "E1_WIKI_PRECISION_TEST = f'{WIKI_TEST_FOLDER}/e1_wiki_precision'\n",
    "E2_WIKI_PRECISION_TEST = f'{WIKI_TEST_FOLDER}/e2_wiki_precision'\n"
   ]
  },
  {
   "cell_type": "markdown",
   "metadata": {},
   "source": [
    "### Evaluation functions"
   ]
  },
  {
   "cell_type": "code",
   "execution_count": null,
   "metadata": {},
   "outputs": [],
   "source": [
    "def recall_segmentation(entries: list[dict]):\n",
    "    nr_entries = len(entries)\n",
    "    true_positives = sum([1 if (entry['entryid'] != \"na\") else 0 for entry in entries])\n",
    "    recall = true_positives / nr_entries\n",
    "    return precision\n",
    "\n",
    "def write_recall_to_stats(filename: str, recall: float, desc: str):\n",
    "    with open(filename, 'a') as file:\n",
    "        file.write(\"------------\\n\")\n",
    "        file.write(f'{desc}\\n')\n",
    "        file.write(f\"Recall: {recall}\\n\")\n",
    "\n",
    "def write_precision_to_stats(filename: str, precision: float, desc: str):\n",
    "    with open(filename, 'a') as file:\n",
    "        file.write(\"------------\\n\")\n",
    "        file.write(f'{desc}\\n')\n",
    "        file.write(f\"Precision: {precision}\\n\")\n",
    "\n",
    "def precision(entries: list[dict], key: str) -> float:\n",
    "    true_positives = sum([entry[key] for entry in entries])\n",
    "    return true_positives / len(entries)\n",
    "\n",
    "def write_to_stats(precision: float, desc: str, eval_file: str):\n",
    "    with open(eval_file, \"w\", encoding='utf-8') as file:\n",
    "        file.write(f\"{desc}: {precision}\")"
   ]
  },
  {
   "cell_type": "markdown",
   "metadata": {},
   "source": [
    "## Evaluation of segmentations\n",
    "* Uses the manually annotated test data.\n",
    "* Writes the segmentation recall (true sample articles / number of these found in segmentations) to stats."
   ]
  },
  {
   "cell_type": "code",
   "execution_count": null,
   "metadata": {},
   "outputs": [],
   "source": [
    "# Retrieve test json items\n",
    "e1_test_entries = jh.read_items(E1_SEGMENTER_TEST)\n",
    "e2_test_entries = jh.read_items(E2_SEGMENTER_TEST)"
   ]
  },
  {
   "cell_type": "code",
   "execution_count": null,
   "metadata": {},
   "outputs": [],
   "source": [
    "e1_recall = recall_segmentation(e1_test_entries)\n",
    "e2_recall = recall_segmentation(e2_test_entries)\n",
    "\n",
    "write_recall_to_stats(E1_SEGMENTER_STATS, e1_recall)\n",
    "write_recall_to_stats(E2_SEGMENTER_STATS, e2_recall)"
   ]
  },
  {
   "cell_type": "markdown",
   "metadata": {},
   "source": [
    "### Evaluation of postprocessing order removal\n",
    "* Computes and saves precision of order removal method for each edition."
   ]
  },
  {
   "cell_type": "code",
   "execution_count": null,
   "metadata": {},
   "outputs": [],
   "source": [
    "# Manual annotation is done? \n",
    "# Evaluate\n",
    "e1_removed_data = jh.read_items(E1_ORDER_TEST)\n",
    "e2_removed_data = jh.read_items(E2_ORDER_TEST)\n",
    "\n",
    "e1_removed_precision = precision(e1_removed_data, 'valid_removal')\n",
    "e2_removed_precision = precision(e2_removed_data, 'valid_removal')\n",
    "\n",
    "write_to_stats(e1_removed_precision, \"Order removal precision\", E1_ORDER_STATS)\n",
    "write_to_stats(e2_removed_precision, \"Order removal precision\", E2_ORDER_STATS)"
   ]
  },
  {
   "cell_type": "markdown",
   "metadata": {},
   "source": [
    "### Evaluation of postprocessing cross-reference linking\n",
    "* Computes and saves precision of cross-reference linking method for each edition."
   ]
  },
  {
   "cell_type": "code",
   "execution_count": null,
   "metadata": {},
   "outputs": [],
   "source": [
    "# Manual annotation done?\n",
    "# Evaluate\n",
    "\n",
    "e1_cross_samples = jh.read_items(E1_CROSS_TEST)\n",
    "e2_cross_samples = jh.read_items(E2_CROSS_TEST)\n",
    "\n",
    "#e1_cross_ratio = sum([entry['is_cross_ref'] for entry in e1_cross_samples]) / len(e1_cross_samples)\n",
    "#e2_cross_ratio = sum([entry['is_cross_ref'] for entry in e2_cross_samples]) / len(e2_cross_samples)\n",
    "\n",
    "e1_stats = jh.read_items(E1_CROSS_STATS)\n",
    "e2_stats = jh.read_items(E2_CROSS_STATS)\n",
    "\n",
    "e1_nr_entries = e1_stats[0]['Nr_articles']\n",
    "e2_nr_entries = e2_stats[0]['Nr_articles']\n",
    "\n",
    "e1_cross_ratio = e1_stats[0]['Nr_cross_ref_total'] / e1_nr_entries\n",
    "e2_cross_ratio = e2_stats[0]['Nr_cross_ref_total'] / e2_nr_entries\n",
    "\n",
    "e1_nr_cross_linked = e1_stats[0]['Nr_cross_ref_linked']\n",
    "e2_nr_cross_linked = e2_stats[0]['Nr_cross_ref_linked']\n",
    "\n",
    "e1_stats[0]['cross_ref_ratio'] = e1_cross_ratio\n",
    "e2_stats[0]['cross_ref_ratio'] = e2_cross_ratio\n",
    "\n",
    "e1_stats[0]['Estimated_cross_refs'] = e1_cross_ratio * e1_nr_entries\n",
    "e2_stats[0]['Estimated_cross_refs'] = e2_cross_ratio * e2_nr_entries\n",
    "\n",
    "e1_stats[0]['Recall'] = e1_nr_cross_linked / (e1_cross_ratio * e1_nr_entries)\n",
    "e2_stats[0]['Recall'] = e2_nr_cross_linked / (e2_cross_ratio * e2_nr_entries)\n",
    "\n",
    "e1_stats[0]['Precision'] = 1 # Per definition these will always be correct\n",
    "e2_stats[0]['Precision'] = 1\n",
    "\n",
    "e1_stats[0]['F1-score'] = 2 * (e1_stats[0]['Precision'] * e1_stats[0]['Recall']) / (e1_stats[0]['Precision'] + e1_stats[0]['Recall'])\n",
    "e2_stats[0]['F1-score'] = 2 * (e2_stats[0]['Precision'] * e2_stats[0]['Recall']) / (e2_stats[0]['Precision'] + e2_stats[0]['Recall'])\n",
    "\n",
    "jh.write_items(e1_stats, E1_CROSS_STATS)\n",
    "jh.write_items(e2_stats, E2_CROSS_STATS)"
   ]
  },
  {
   "cell_type": "markdown",
   "metadata": {},
   "source": [
    "## Evaluation of project (Locations)\n",
    "- How many of the sample locations have been correctly linked to wikidata?"
   ]
  },
  {
   "cell_type": "code",
   "execution_count": null,
   "metadata": {},
   "outputs": [],
   "source": [
    "def is_coords_correct(entry, distance):\n",
    "    coords_pred = (entry['latitude'], entry['longitude'])\n",
    "    coords_true = (entry['correct_latitude'], entry['correct_longitude'])\n",
    "    if coords_pred == (None, None) and coords_true == (None, None): \n",
    "        return True\n",
    "    elif coords_pred == (None, None) and coords_true != (None, None):\n",
    "        return False\n",
    "    elif geopy.distance.geodesic(coords_pred, coords_true).km < distance:\n",
    "        return True\n",
    "    else:\n",
    "        return False\n",
    "\n",
    "def eval_entry(entry, distance):\n",
    "    # return = (Retrieved entry, Correct QID, Correct Coordinates)\n",
    "    if entry['qid_match']:\n",
    "        return (1, 1, 1)\n",
    "    elif is_coords_correct(entry, distance):\n",
    "        return (1, 0, 1)\n",
    "    elif entry['entryid']: \n",
    "        return (1, 0, 0)\n",
    "    else:\n",
    "        return (0, 0, 0)"
   ]
  },
  {
   "cell_type": "markdown",
   "metadata": {},
   "source": [
    "### Calculate recall for qid match and within 25 km"
   ]
  },
  {
   "cell_type": "code",
   "execution_count": null,
   "metadata": {},
   "outputs": [],
   "source": [
    "DISTANCE = 25\n",
    "\n",
    "e1_test = jh.read_items(E1_LOCATION_TEST)\n",
    "e2_test = jh.read_items(E2_LOCATION_TEST)   \n",
    "\n",
    "e1_nr_entries = len(e1_test)\n",
    "e2_nr_entries = len(e2_test)\n",
    "\n",
    "e1_eval = [eval_entry(entry, DISTANCE) for entry in e1_test]\n",
    "e2_eval = [eval_entry(entry, DISTANCE) for entry in e2_test]\n",
    "\n",
    "# Get edition recall for location articles\n",
    "e1_nr_retrieved = sum([e[0] for e in e1_eval])\n",
    "e2_nr_retrieved = sum([e[0] for e in e2_eval])\n",
    "\n",
    "e1_retrieval_recall = e1_nr_retrieved / e1_nr_entries\n",
    "e2_retrieval_recall = e2_nr_retrieved / e2_nr_entries\n",
    "\n",
    "# Get edition recall for qid matches\n",
    "e1_nr_correct_qid = sum([e[1] for e in e1_eval])\n",
    "e2_nr_correct_qid = sum([e[1] for e in e2_eval])\n",
    "\n",
    "e1_qid_recall = e1_nr_correct_qid / e1_nr_entries\n",
    "e2_qid_recall = e2_nr_correct_qid / e2_nr_entries\n",
    "\n",
    "# Get edition recall for location coordinates kind\n",
    "e1_nr_correct_coords = sum([e[2] for e in e1_eval])\n",
    "e2_nr_correct_coords = sum([e[2] for e in e2_eval])\n",
    "\n",
    "e1_coords_recall = e1_nr_correct_coords / e1_nr_entries\n",
    "e2_coords_recall = e2_nr_correct_coords / e2_nr_entries\n",
    "\n",
    "# Write to stats\n",
    "write_recall_to_stats(E1_LOCATION_STATS, e1_retrieval_recall, \"E1 recall for location articles\")\n",
    "write_recall_to_stats(E1_LOCATION_STATS, e1_qid_recall, \"E1 recall for qid matching\")\n",
    "write_recall_to_stats(E1_LOCATION_STATS, e1_coords_recall, \"E1 recall for location coordinates\")\n",
    "\n",
    "write_recall_to_stats(E2_LOCATION_STATS, e2_retrieval_recall, \"E2 recall for location articles\")\n",
    "write_recall_to_stats(E2_LOCATION_STATS, e2_qid_recall, \"E2 recall for qid matching\")\n",
    "write_recall_to_stats(E2_LOCATION_STATS, e2_coords_recall, \"E2 recall for location coordinates\")"
   ]
  },
  {
   "cell_type": "markdown",
   "metadata": {},
   "source": [
    "### Calculate precision for qid match and within 25 km"
   ]
  },
  {
   "cell_type": "code",
   "execution_count": 12,
   "metadata": {},
   "outputs": [],
   "source": [
    "DISTANCE = 25\n",
    "\n",
    "e1_test = jh.read_items(E1_WIKI_PRECISION_TEST)\n",
    "e2_test = jh.read_items(E2_WIKI_PRECISION_TEST)\n",
    "\n",
    "for item in e1_test:\n",
    "    if item['qid'] == item['correct_qid']:\n",
    "        item['qid_match'] = 1\n",
    "    else:\n",
    "        item['qid_match'] = 0\n",
    "\n",
    "for item in e2_test:\n",
    "    if item['qid'] == item['correct_qid']:\n",
    "        item['qid_match'] = 1\n",
    "    else:\n",
    "        item['qid_match'] = 0 \n",
    "\n",
    "e1_nr_entries = len(e1_test)\n",
    "e2_nr_entries = len(e2_test)\n",
    "\n",
    "e1_eval = [eval_entry(entry, DISTANCE) for entry in e1_test]\n",
    "e2_eval = [eval_entry(entry, DISTANCE) for entry in e2_test]\n",
    "\n",
    "# Get edition precision for location articles\n",
    "e1_nr_retrieved = sum([e[0] for e in e1_eval])\n",
    "e2_nr_retrieved = sum([e[0] for e in e2_eval])\n",
    "\n",
    "e1_retrieval_precision = e1_nr_retrieved / e1_nr_entries\n",
    "e2_retrieval_precision = e2_nr_retrieved / e2_nr_entries\n",
    "\n",
    "# Get edition precision for qid matches\n",
    "e1_nr_correct_qid = sum([e[1] for e in e1_eval])\n",
    "e2_nr_correct_qid = sum([e[1] for e in e2_eval])\n",
    "\n",
    "e1_qid_precision = e1_nr_correct_qid / e1_nr_entries\n",
    "e2_qid_precision = e2_nr_correct_qid / e2_nr_entries\n",
    "\n",
    "# Get edition precision for location coordinates kind\n",
    "e1_nr_correct_coords = sum([e[2] for e in e1_eval])\n",
    "e2_nr_correct_coords = sum([e[2] for e in e2_eval])\n",
    "\n",
    "e1_coords_precision = e1_nr_correct_coords / e1_nr_entries\n",
    "e2_coords_precision = e2_nr_correct_coords / e2_nr_entries\n",
    "\n",
    "# Write to stats\n",
    "# write_precision_to_stats(E1_LOCATION_STATS, e1_retrieval_precision, \"E1 precision for location articles\")\n",
    "# write_precision_to_stats(E1_LOCATION_STATS, e1_qid_precision, \"E1 precision for qid matching\")\n",
    "# write_precision_to_stats(E1_LOCATION_STATS, e1_coords_precision, \"E1 precision for location coordinates\")\n",
    "\n",
    "write_precision_to_stats(E2_LOCATION_STATS, e2_retrieval_precision, \"E2 precision for location articles\")\n",
    "write_precision_to_stats(E2_LOCATION_STATS, e2_qid_precision, \"E2 precision for qid matching\")\n",
    "write_precision_to_stats(E2_LOCATION_STATS, e2_coords_precision, \"E2 precision for location coordinates\")"
   ]
  }
 ],
 "metadata": {
  "kernelspec": {
   "display_name": "base",
   "language": "python",
   "name": "python3"
  },
  "language_info": {
   "codemirror_mode": {
    "name": "ipython",
    "version": 3
   },
   "file_extension": ".py",
   "mimetype": "text/x-python",
   "name": "python",
   "nbconvert_exporter": "python",
   "pygments_lexer": "ipython3",
   "version": "3.10.3"
  }
 },
 "nbformat": 4,
 "nbformat_minor": 2
}
