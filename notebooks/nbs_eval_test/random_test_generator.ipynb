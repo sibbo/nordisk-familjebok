{
 "cells": [
  {
   "cell_type": "code",
   "execution_count": null,
   "metadata": {},
   "outputs": [],
   "source": [
    "import os\n",
    "os.chdir('../../')\n",
    "print(os.getcwd())\n",
    "\n",
    "import random\n",
    "from utils import json_helpers as jh\n",
    "from utils.scraping_and_segmenting_helpers import *\n",
    "from utils.paths import *\n",
    "\n",
    "SEGMENTER_SAMPLES = 50\n",
    "LOCATION_SAMPLES = 25\n",
    "WIKI_SAMPLES = 200"
   ]
  },
  {
   "cell_type": "markdown",
   "metadata": {},
   "source": [
    "### Function that generates random tests (volume and page for web lookup)"
   ]
  },
  {
   "cell_type": "code",
   "execution_count": null,
   "metadata": {},
   "outputs": [],
   "source": [
    "def generate_random_test_articles(edition: str, samples: int):\n",
    "    items = []\n",
    "    if edition == 'e1':\n",
    "        volumes_dict = edition1_volume_start_end\n",
    "    else:\n",
    "        volumes_dict = edition2_volume_start_end\n",
    "    for _ in range(samples):\n",
    "        key, val = random.choice(list(volumes_dict.items()))\n",
    "        page = random.randrange(val[0], val[1] + 1)\n",
    "        item = {\n",
    "            \"volume\": key,\n",
    "            \"page\": page,\n",
    "            \"headword\": \"\",\n",
    "            \"entryid\": \"\",\n",
    "        }\n",
    "        items.append(item)\n",
    "    \n",
    "    return items"
   ]
  },
  {
   "cell_type": "markdown",
   "metadata": {},
   "source": [
    "### Write test samples to jsons"
   ]
  },
  {
   "cell_type": "code",
   "execution_count": null,
   "metadata": {},
   "outputs": [],
   "source": [
    "# Write segmenter test samples\n",
    "jh.write_items(generate_random_test_articles('e1', SEGMENTER_SAMPLES), f\"{TEST_SEGMENTER_FOLDER}e1_test_segmenter\")\n",
    "jh.write_items(generate_random_test_articles('e2', SEGMENTER_SAMPLES), f\"{TEST_SEGMENTER_FOLDER}e2_test_segmenter\")\n",
    "\n",
    "# Write location test samples\n",
    "jh.write_items(generate_random_test_articles('e1', LOCATION_SAMPLES), f\"{TEST_LOCATIONS_FOLDER}e1_test_locations\")\n",
    "jh.write_items(generate_random_test_articles('e2', LOCATION_SAMPLES), f\"{TEST_LOCATIONS_FOLDER}e2_test_locations\")\n"
   ]
  },
  {
   "cell_type": "markdown",
   "metadata": {},
   "source": [
    "### Generate wiki test data"
   ]
  },
  {
   "cell_type": "code",
   "execution_count": null,
   "metadata": {},
   "outputs": [],
   "source": [
    "# Random data for wiki tests, non-location to be removed manually\n",
    "# We removed so that both test files had 30 locations.\n",
    "e1_items = jh.read_items(f'{ENCYCLOPEDIAS_JSON_FOLDER}/e1')\n",
    "e1_items = [entry for entry in e1_items if entry['cross_ref_key'] == \"\"]\n",
    "e1_samples = random.sample(e1_items, WIKI_SAMPLES)\n",
    "\n",
    "e2_items = jh.read_items(f'{ENCYCLOPEDIAS_JSON_FOLDER}/e2')\n",
    "e2_items = [entry for entry in e2_items if entry['cross_ref_key'] == \"\"]\n",
    "e2_samples = random.sample(e2_items, WIKI_SAMPLES)\n",
    "\n",
    "for entry in e1_samples:\n",
    "    entry['correct_lat'] = 0\n",
    "    entry['correct_lon'] = 0\n",
    "\n",
    "for entry in e2_samples:\n",
    "    entry['correct_lat'] = 0\n",
    "    entry['correct_lon'] = 0\n",
    "\n",
    "jh.write_items(e1_samples, f'{WIKI_TEST_FOLDER}/e1_test_wiki')\n",
    "jh.write_items(e2_samples, f'{WIKI_TEST_FOLDER}/e2_test_wiki')\n"
   ]
  },
  {
   "cell_type": "markdown",
   "metadata": {},
   "source": [
    "#### We need to manually annotate wiki data coordinates."
   ]
  },
  {
   "cell_type": "code",
   "execution_count": null,
   "metadata": {},
   "outputs": [],
   "source": [
    "# Reduce data to how many you want to annotate\n",
    "nr_locations = 25\n",
    "e1_wiki = jh.read_items(f'{WIKI_TEST_FOLDER}/e1_test_wiki')\n",
    "e2_wiki = jh.read_items(f'{WIKI_TEST_FOLDER}/e2_test_wiki')\n",
    "\n",
    "jh.write_items(e1_wiki[:nr_locations], f'{WIKI_TEST_FOLDER}/e1_test_wiki')\n",
    "jh.write_items(e2_wiki[:nr_locations], f'{WIKI_TEST_FOLDER}/e2_test_wiki')\n"
   ]
  }
 ],
 "metadata": {
  "kernelspec": {
   "display_name": "Python 3",
   "language": "python",
   "name": "python3"
  },
  "language_info": {
   "codemirror_mode": {
    "name": "ipython",
    "version": 3
   },
   "file_extension": ".py",
   "mimetype": "text/x-python",
   "name": "python",
   "nbconvert_exporter": "python",
   "pygments_lexer": "ipython3",
   "version": "3.11.4"
  }
 },
 "nbformat": 4,
 "nbformat_minor": 2
}
