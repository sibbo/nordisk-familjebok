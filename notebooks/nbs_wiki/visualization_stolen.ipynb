{
 "cells": [
  {
   "cell_type": "markdown",
   "metadata": {},
   "source": [
    "# Plotting locations in Nordisk Familjebok"
   ]
  },
  {
   "cell_type": "code",
   "execution_count": 1,
   "metadata": {},
   "outputs": [],
   "source": [
    "import sys\n",
    "sys.path.append('../../')  # Assuming the parent directory\n",
    "\n",
    "import matplotlib.pyplot as plt\n",
    "# from mpl_toolkits.basemap import Basemap\n",
    "#import scripts.coordinates_retreival as gs\n",
    "# import json\n",
    "# import time\n",
    "from utils import json_helpers as jh\n",
    "import plotly.graph_objects as go\n",
    "import plotly.express as px\n",
    "import pandas as pd\n",
    "\n",
    "e1 = \"e1_linked2\""
   ]
  },
  {
   "cell_type": "markdown",
   "metadata": {},
   "source": [
    "### Functions helpful for comparision of editions"
   ]
  },
  {
   "cell_type": "code",
   "execution_count": null,
   "metadata": {},
   "outputs": [],
   "source": [
    "# Returns all coordinates to articles in an edition\n",
    "def get_all_coords(edition: list[dict]):\n",
    "    return [(entry.get('latitude', None), (entry.get('longitude', None))) for entry in edition]\n",
    "\n",
    "# Returns the location entries in both editions\n",
    "def coords_union(edition1: list[dict], edition2: list[dict]) -> list[dict]:\n",
    "    coords1 = get_all_coords(edition1)\n",
    "    coords2 = get_all_coords(edition2)\n",
    "    \n",
    "    union_coords = set(coords1 + (coords2))\n",
    "    union_coords.discard((None, None))\n",
    "    \n",
    "    qids = set()\n",
    "    entry_union = []\n",
    "    for entry in edition1 + edition2:\n",
    "        lat = entry.get('latitude', None)\n",
    "        lon = entry.get('longitude', None)\n",
    "        qid = entry['qid']\n",
    "        if (lat, lon) in union_coords and qid not in qids:\n",
    "            entry_union.append(entry)\n",
    "\n",
    "    return entry_union\n",
    "\n",
    "# Returns the location entries in edition1 but not in edition2\n",
    "def coords_diff(edition1: dict, edition2: dict) -> dict:\n",
    "    coords1 = set(get_all_coords(edition1))\n",
    "    coords2 = set(get_all_coords(edition2))\n",
    "\n",
    "    diff_coords = coords1.difference(coords2)\n",
    "    diff_coords.discard((None, None))\n",
    "\n",
    "    qids = set()\n",
    "    entry_diff = []\n",
    "    for entry in edition1:\n",
    "        lat = entry.get('latitude', None)\n",
    "        lon = entry.get('longitude', None)\n",
    "        qid = entry['qid']\n",
    "        if (lat, lon) in diff_coords and qid not in qids:\n",
    "            diff_coords.discard((lat, lon))\n",
    "            entry_diff.append(entry)\n",
    "\n",
    "    return entry_diff\n",
    "\n",
    "def coords_intersec(edition1: dict, edition2: dict) -> dict:\n",
    "    coords1 = set(get_all_coords(edition1))\n",
    "    coords2 = set(get_all_coords(edition2))\n",
    "\n",
    "    intersec_coords = coords1.intersection(coords2)\n",
    "    intersec_coords.discard((None, None))\n",
    "\n",
    "\n",
    "    qids = set()\n",
    "    entry_intersec = []\n",
    "    for entry in edition1 + edition2:\n",
    "        lat = entry.get('latitude', None)\n",
    "        lon = entry.get('longitude', None)\n",
    "        qid = entry['qid']\n",
    "        if (lat, lon) in intersec_coords and qid not in qids:\n",
    "            qids.add(entry['qid'])\n",
    "            entry_intersec.append(entry)\n",
    "\n",
    "    return entry_intersec"
   ]
  },
  {
   "cell_type": "markdown",
   "metadata": {},
   "source": [
    "### Visualization functions"
   ]
  },
  {
   "cell_type": "code",
   "execution_count": null,
   "metadata": {},
   "outputs": [],
   "source": [
    "def twod_map_coords(entries: list[dict], samples = 20):\n",
    "    # output_image = config[\"visualization\"][\"output_image\"]\n",
    "    data = pd.DataFrame(entries)[:samples]\n",
    "\n",
    "    fig = px.scatter_geo(data, lat=\"latitude\", \n",
    "                         lon=\"longitude\", \n",
    "                         hover_name='qid',\n",
    "                         hover_data='text',\n",
    "                         projection=\"natural earth\", opacity=0.3\n",
    "                         )\n",
    "    # fig.to_image(output_image)\n",
    "\n",
    "    fig.update_layout(hoverlabel=dict(\n",
    "        bgcolor=\"white\",\n",
    "        font_size=6,\n",
    "        font_family=\"Rockwell\",\n",
    "    ))\n",
    "\n",
    "    fig.write_html(\"2d_plot.html\")\n",
    "    fig.show()\n",
    "\n",
    "\n",
    "\n",
    "def threed_map_coords(config):\n",
    "    FILENAME_OUT_CSV = config[\"coords_fetch\"][\"output_csv_file\"]\n",
    "\n",
    "    lons, lats = [], []\n",
    "\n",
    "    with open(FILENAME_OUT_CSV) as f:\n",
    "        for line in f.readlines():\n",
    "            lon, lat = line.split(',')\n",
    "\n",
    "            # print(lon, lat)\n",
    "            lons.append(float(lon))\n",
    "            lats.append(float(lat))\n",
    "\n",
    "    print(f\"Successful coords: {len(lons)}\")\n",
    "\n",
    "    # if you are passing just one lat and lon, put it within \"[]\"\n",
    "    # editing the marker\n",
    "    fig = go.Figure(go.Scattergeo(lat=lats, lon=lons))\n",
    "    # this projection_type = 'orthographic is the projection which return 3d globe map'\n",
    "    fig.update_traces(marker={\"opacity\": 0.4, 'size': 5, \"color\": \"blue\"})\n",
    "    # layout, exporting html and showing the plot\n",
    "    fig.update_geos(projection_type=\"orthographic\")\n",
    "    fig.update_layout(width=800, height=800, margin={\n",
    "                      \"r\": 0, \"t\": 0, \"l\": 0, \"b\": 0})\n",
    "    fig.write_html(\"3d_plot.html\")\n",
    "    fig.show()"
   ]
  },
  {
   "cell_type": "markdown",
   "metadata": {},
   "source": [
    "### Plots"
   ]
  },
  {
   "cell_type": "code",
   "execution_count": null,
   "metadata": {},
   "outputs": [],
   "source": [
    "e1_entries = jh.read_items(e1)"
   ]
  },
  {
   "cell_type": "code",
   "execution_count": null,
   "metadata": {},
   "outputs": [],
   "source": [
    "twod_map_coords(e1_entries, samples=20)"
   ]
  }
 ],
 "metadata": {
  "kernelspec": {
   "display_name": "Python 3",
   "language": "python",
   "name": "python3"
  },
  "language_info": {
   "codemirror_mode": {
    "name": "ipython",
    "version": 3
   },
   "file_extension": ".py",
   "mimetype": "text/x-python",
   "name": "python",
   "nbconvert_exporter": "python",
   "pygments_lexer": "ipython3",
   "version": "3.11.4"
  }
 },
 "nbformat": 4,
 "nbformat_minor": 2
}
