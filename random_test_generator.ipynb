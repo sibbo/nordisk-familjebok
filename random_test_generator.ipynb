{
 "cells": [
  {
   "cell_type": "code",
   "execution_count": 2,
   "metadata": {},
   "outputs": [],
   "source": [
    "import random\n",
    "import json_helpers as jh\n",
    "from scraping_and_segmenting_helpers import *\n",
    "\n",
    "SEGMENTER_SAMPLES = 50\n",
    "LOCATION_SAMPLES = 25"
   ]
  },
  {
   "cell_type": "markdown",
   "metadata": {},
   "source": [
    "### Function that generates random tests (volume and page for web lookup)"
   ]
  },
  {
   "cell_type": "code",
   "execution_count": 3,
   "metadata": {},
   "outputs": [],
   "source": [
    "def generate_random_test_articles(edition: str, samples: int):\n",
    "    items = []\n",
    "    if edition == 'e1':\n",
    "        volumes_dict = edition1_volume_start_end\n",
    "    else:\n",
    "        volumes_dict = edition2_volume_start_end\n",
    "    for _ in range(samples):\n",
    "        key, val = random.choice(list(volumes_dict.items()))\n",
    "        page = random.randrange(val[0], val[1] + 1)\n",
    "        item = {\n",
    "            \"volume\": key,\n",
    "            \"page\": page,\n",
    "            \"headword\": \"\",\n",
    "            \"entryid\": \"\",\n",
    "        }\n",
    "        items.append(item)\n",
    "    \n",
    "    return items"
   ]
  },
  {
   "cell_type": "markdown",
   "metadata": {},
   "source": [
    "### Write test samples to jsons"
   ]
  },
  {
   "cell_type": "code",
   "execution_count": 4,
   "metadata": {},
   "outputs": [],
   "source": [
    "# Write segmenter test samples\n",
    "jh.write_items(generate_random_test_articles('e1', SEGMENTER_SAMPLES), f\"{TEST_SEGMENTER_FOLDER}e1_test_segmenter\")\n",
    "jh.write_items(generate_random_test_articles('e2', SEGMENTER_SAMPLES), f\"{TEST_SEGMENTER_FOLDER}e2_test_segmenter\")\n",
    "\n",
    "# Write location test samples\n",
    "jh.write_items(generate_random_test_articles('e1', LOCATION_SAMPLES), f\"{TEST_LOCATIONS_FOLDER}e1_test_locations\")\n",
    "jh.write_items(generate_random_test_articles('e2', LOCATION_SAMPLES), f\"{TEST_LOCATIONS_FOLDER}e2_test_locations\")\n"
   ]
  }
 ],
 "metadata": {
  "kernelspec": {
   "display_name": "Python 3",
   "language": "python",
   "name": "python3"
  },
  "language_info": {
   "codemirror_mode": {
    "name": "ipython",
    "version": 3
   },
   "file_extension": ".py",
   "mimetype": "text/x-python",
   "name": "python",
   "nbconvert_exporter": "python",
   "pygments_lexer": "ipython3",
   "version": "3.11.4"
  }
 },
 "nbformat": 4,
 "nbformat_minor": 2
}
