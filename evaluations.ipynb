{
 "cells": [
  {
   "cell_type": "markdown",
   "metadata": {},
   "source": [
    "# Evaluation of methods\n",
    "- Contains evaluations of: Segmentations, postprocessing order removal, postprocessing cross-reference linking"
   ]
  },
  {
   "cell_type": "code",
   "execution_count": 1,
   "metadata": {},
   "outputs": [],
   "source": [
    "import json_helpers as jh\n",
    "from scraping_and_segmenting_helpers import *\n",
    "\n",
    "E1_SEGMENTER_STATS = f\"{SEGMENTER_STATS_FOLDER}stats_segmenter_e1.txt\"\n",
    "E2_SEGMENTER_STATS = f\"{SEGMENTER_STATS_FOLDER}stats_segmenter_e2.txt\"\n",
    "\n",
    "E1_EVAL_ORDER = 'evaluations/order_jsons/e1_test_order'\n",
    "E2_EVAL_ORDER = 'evaluations/order_jsons/e2_test_order'\n",
    "\n",
    "E1_ORDER_STATS = 'evaluations/order_stats/e1_order_removal_precision.txt'\n",
    "E2_ORDER_STATS = 'evaluations/order_stats/e2_order_removal_precision.txt'\n",
    "\n",
    "E1_TEST_LINKS = 'evaluations/links_jsons/e1_test_links'\n",
    "E2_TEST_LINKS = 'evaluations/links_jsons/e2_test_links'\n",
    "\n",
    "E1_STATS_LINKS = 'evaluations/links_stats/e1_links_precision.txt'\n",
    "E2_STATS_LINKS = 'evaluations/links_stats/e2_links_precision.txt'\n"
   ]
  },
  {
   "cell_type": "markdown",
   "metadata": {},
   "source": [
    "### Evaluation functions"
   ]
  },
  {
   "cell_type": "code",
   "execution_count": 2,
   "metadata": {},
   "outputs": [],
   "source": [
    "def recall_segmentation(entries: list[dict]):\n",
    "    nr_entries = len(entries)\n",
    "    true_positives = sum([1 if (entry['entryid'] != \"na\") else 0 for entry in entries])\n",
    "    recall = true_positives / nr_entries\n",
    "    return recall\n",
    "\n",
    "def write_recall_to_stats(filename: str, recall: float):\n",
    "    with open(filename, 'a') as file:\n",
    "        file.write(\"------------\\n\")\n",
    "        file.write(f\"Recall: {recall}\\n\")\n",
    "\n",
    "def precision(entries: list[dict], key: str) -> float:\n",
    "    true_positives = sum([entry[key] for entry in entries])\n",
    "    return true_positives / len(entries)\n",
    "\n",
    "def write_to_stats(precision: float, desc: str, eval_file: str):\n",
    "    with open(eval_file, \"w\", encoding='utf-8') as file:\n",
    "        file.write(f\"{desc}: {precision}\")"
   ]
  },
  {
   "cell_type": "markdown",
   "metadata": {},
   "source": [
    "## Evaluation of segmentations\n",
    "* Uses the manually annotated test data.\n",
    "* Writes the segmentation recall (true sample articles / number of these found in segmentations) to stats."
   ]
  },
  {
   "cell_type": "code",
   "execution_count": 4,
   "metadata": {},
   "outputs": [],
   "source": [
    "# Retrieve test json items\n",
    "e1_test_entries = jh.read_items(f\"{TEST_SEGMENTER_FOLDER}e1_test_segmenter\")\n",
    "e2_test_entries = jh.read_items(f\"{TEST_SEGMENTER_FOLDER}e2_test_segmenter\")"
   ]
  },
  {
   "cell_type": "code",
   "execution_count": 5,
   "metadata": {},
   "outputs": [],
   "source": [
    "e1_recall = recall_segmentation(e1_test_entries)\n",
    "e2_recall = recall_segmentation(e2_test_entries)\n",
    "\n",
    "write_recall_to_stats(E1_SEGMENTER_STATS, e1_recall)\n",
    "write_recall_to_stats(E2_SEGMENTER_STATS, e2_recall)"
   ]
  },
  {
   "cell_type": "markdown",
   "metadata": {},
   "source": [
    "### Evaluation of postprocessing order removal\n",
    "* Computes and saves precision of order removal method for each edition."
   ]
  },
  {
   "cell_type": "code",
   "execution_count": 6,
   "metadata": {},
   "outputs": [],
   "source": [
    "# Manual annotation is done? \n",
    "# Evaluate\n",
    "e1_removed_data = jh.read_items(E1_EVAL_ORDER)\n",
    "e2_removed_data = jh.read_items(E2_EVAL_ORDER)\n",
    "\n",
    "e1_removed_precision = precision(e1_removed_data, 'valid_removal')\n",
    "e2_removed_precision = precision(e2_removed_data, 'valid_removal')\n",
    "\n",
    "write_to_stats(e1_removed_precision, \"Order removal precision\", E1_ORDER_STATS)\n",
    "write_to_stats(e2_removed_precision, \"Order removal precision\", E2_ORDER_STATS)"
   ]
  },
  {
   "cell_type": "markdown",
   "metadata": {},
   "source": [
    "### Evaluation of postprocessing cross-reference linking\n",
    "* Computes and saves precision of cross-reference linking method for each edition."
   ]
  },
  {
   "cell_type": "code",
   "execution_count": 8,
   "metadata": {},
   "outputs": [],
   "source": [
    "# Manual annotation done?\n",
    "# Evaluate\n",
    "\n",
    "e1_linked_data = jh.read_items(E1_TEST_LINKS)\n",
    "e2_linked_data = jh.read_items(E2_TEST_LINKS)\n",
    "\n",
    "e1_linked_precision = precision(e1_linked_data, 'valid_link')\n",
    "e2_linked_precision = precision(e2_linked_data, 'valid_link')\n",
    "\n",
    "write_to_stats(e1_linked_precision, \"Linking precision\", E1_STATS_LINKS)\n",
    "write_to_stats(e2_linked_precision, \"Linking precision\", E2_STATS_LINKS)"
   ]
  }
 ],
 "metadata": {
  "kernelspec": {
   "display_name": "base",
   "language": "python",
   "name": "python3"
  },
  "language_info": {
   "codemirror_mode": {
    "name": "ipython",
    "version": 3
   },
   "file_extension": ".py",
   "mimetype": "text/x-python",
   "name": "python",
   "nbconvert_exporter": "python",
   "pygments_lexer": "ipython3",
   "version": "3.11.4"
  }
 },
 "nbformat": 4,
 "nbformat_minor": 2
}
