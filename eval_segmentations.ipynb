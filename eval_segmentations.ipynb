{
 "cells": [
  {
   "cell_type": "code",
   "execution_count": 7,
   "metadata": {},
   "outputs": [],
   "source": [
    "import json_helpers as jh\n",
    "from scraping_and_segmenting_helpers import *\n",
    "\n",
    "E1_SEGMENTER_STATS = f\"{SEGMENTER_STATS_FOLDER}stats_segmenter_e1.txt\"\n",
    "E2_SEGMENTER_STATS = f\"{SEGMENTER_STATS_FOLDER}stats_segmenter_e2.txt\""
   ]
  },
  {
   "cell_type": "code",
   "execution_count": 2,
   "metadata": {},
   "outputs": [],
   "source": [
    "# Retrieve test json items\n",
    "e1_test_entries = jh.read_items(f\"{TEST_SEGMENTER_FOLDER}e1_test_segmenter\")\n",
    "e2_test_entries = jh.read_items(f\"{TEST_SEGMENTER_FOLDER}e2_test_segmenter\")"
   ]
  },
  {
   "cell_type": "code",
   "execution_count": 10,
   "metadata": {},
   "outputs": [],
   "source": [
    "def recall_segmentation(entries: list[dict]):\n",
    "    nr_entries = len(entries)\n",
    "    true_positives = sum([1 if (entry['entryid'] != \"\") else 0 for entry in entries])\n",
    "    recall = true_positives / nr_entries\n",
    "    return recall\n",
    "\n",
    "def write_recall_to_stats(filename: str, recall: float):\n",
    "    with open(filename, 'a') as file:\n",
    "        file.write(\"------------\\n\")\n",
    "        file.write(f\"Recall: {recall}\\n\")\n"
   ]
  },
  {
   "cell_type": "code",
   "execution_count": 11,
   "metadata": {},
   "outputs": [],
   "source": [
    "e1_recall = recall_segmentation(e1_test_entries)\n",
    "e2_recall = recall_segmentation(e2_test_entries)\n",
    "\n",
    "write_recall_to_stats(E1_SEGMENTER_STATS, e1_recall)\n",
    "write_recall_to_stats(E2_SEGMENTER_STATS, e2_recall)"
   ]
  }
 ],
 "metadata": {
  "kernelspec": {
   "display_name": "base",
   "language": "python",
   "name": "python3"
  },
  "language_info": {
   "codemirror_mode": {
    "name": "ipython",
    "version": 3
   },
   "file_extension": ".py",
   "mimetype": "text/x-python",
   "name": "python",
   "nbconvert_exporter": "python",
   "pygments_lexer": "ipython3",
   "version": "3.11.4"
  }
 },
 "nbformat": 4,
 "nbformat_minor": 2
}
