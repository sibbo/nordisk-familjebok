{
 "cells": [
  {
   "cell_type": "code",
   "execution_count": null,
   "metadata": {},
   "outputs": [],
   "source": [
    "import matplotlib.pyplot as plt\n",
    "# from mpl_toolkits.basemap import Basemap\n",
    "#import scripts.coordinates_retreival as gs\n",
    "# import json\n",
    "# import time\n",
    "import plotly.graph_objects as go\n",
    "import plotly.express as px\n",
    "import pandas as pd"
   ]
  },
  {
   "cell_type": "code",
   "execution_count": null,
   "metadata": {},
   "outputs": [],
   "source": [
    "def twod_map_coords(samples = 20):\n",
    "    data = \"e1_linked2.json\"\n",
    "    # output_image = config[\"visualization\"][\"output_image\"]\n",
    "\n",
    "\n",
    "    data = pd.read_json(data)[:samples]\n",
    "    print(data)\n",
    "    fig = px.scatter_geo(data, lat=\"latitude\", \n",
    "                         lon=\"longitude\", \n",
    "                         hover_name='qid',\n",
    "                         hover_data='text',\n",
    "                         projection=\"natural earth\", opacity=0.3\n",
    "                         )\n",
    "    # fig.to_image(output_image)\n",
    "    \n",
    "    fig.write_html(\"2d_plot.html\")\n",
    "    fig.show()\n",
    "\n",
    "\n",
    "\n",
    "def threed_map_coords(config):\n",
    "    FILENAME_OUT_CSV = config[\"coords_fetch\"][\"output_csv_file\"]\n",
    "\n",
    "    lons, lats = [], []\n",
    "\n",
    "    with open(FILENAME_OUT_CSV) as f:\n",
    "        for line in f.readlines():\n",
    "            lon, lat = line.split(',')\n",
    "\n",
    "            # print(lon, lat)\n",
    "            lons.append(float(lon))\n",
    "            lats.append(float(lat))\n",
    "\n",
    "    print(f\"Successful coords: {len(lons)}\")\n",
    "\n",
    "    # if you are passing just one lat and lon, put it within \"[]\"\n",
    "    # editing the marker\n",
    "    fig = go.Figure(go.Scattergeo(lat=lats, lon=lons))\n",
    "    # this projection_type = 'orthographic is the projection which return 3d globe map'\n",
    "    fig.update_traces(marker={\"opacity\": 0.4, 'size': 5, \"color\": \"blue\"})\n",
    "    # layout, exporting html and showing the plot\n",
    "    fig.update_geos(projection_type=\"orthographic\")\n",
    "    fig.update_layout(width=800, height=800, margin={\n",
    "                      \"r\": 0, \"t\": 0, \"l\": 0, \"b\": 0})\n",
    "    fig.write_html(\"3d_plot.html\")\n",
    "    fig.show()"
   ]
  },
  {
   "cell_type": "code",
   "execution_count": null,
   "metadata": {},
   "outputs": [],
   "source": [
    "twod_map_coords(20)"
   ]
  }
 ],
 "metadata": {
  "kernelspec": {
   "display_name": "Python 3",
   "language": "python",
   "name": "python3"
  },
  "language_info": {
   "codemirror_mode": {
    "name": "ipython",
    "version": 3
   },
   "file_extension": ".py",
   "mimetype": "text/x-python",
   "name": "python",
   "nbconvert_exporter": "python",
   "pygments_lexer": "ipython3",
   "version": "3.10.3"
  }
 },
 "nbformat": 4,
 "nbformat_minor": 2
}
