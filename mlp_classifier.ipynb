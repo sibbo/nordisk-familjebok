{
 "cells": [
  {
   "cell_type": "markdown",
   "metadata": {},
   "source": [
    "# Creating the entry classifier\n",
    "Creating automatically annotated training data and training the model"
   ]
  },
  {
   "cell_type": "code",
   "execution_count": 1,
   "metadata": {},
   "outputs": [],
   "source": [
    "import hashlib\n",
    "import joblib\n",
    "import regex as re\n",
    "from sklearn.neural_network import MLPClassifier\n",
    "from sklearn.feature_extraction import DictVectorizer\n",
    "from sklearn.metrics import accuracy_score\n",
    "from sklearn.metrics import f1_score, classification_report\n",
    "from sklearn.metrics import confusion_matrix\n",
    "from tqdm.notebook import tqdm\n",
    "from collections import Counter\n",
    "from scraping_and_segmenting_helpers import *"
   ]
  },
  {
   "cell_type": "code",
   "execution_count": 2,
   "metadata": {},
   "outputs": [],
   "source": [
    "training_data_file = 'training_data.json'\n",
    "\n",
    "classifier_remove_tags = [\n",
    "    [\"<b>\", \"\"],\n",
    "    [\"</b>\", \"\"],\n",
    "]"
   ]
  },
  {
   "cell_type": "markdown",
   "metadata": {},
   "source": [
    "## Creating (automatically) annotated training and test data"
   ]
  },
  {
   "cell_type": "code",
   "execution_count": 3,
   "metadata": {},
   "outputs": [
    {
     "data": {
      "application/vnd.jupyter.widget-view+json": {
       "model_id": "c9bb5d63323540fe824cf562a453983d",
       "version_major": 2,
       "version_minor": 0
      },
      "text/plain": [
       "  0%|          | 0/34 [00:00<?, ?it/s]"
      ]
     },
     "metadata": {},
     "output_type": "display_data"
    },
    {
     "name": "stdout",
     "output_type": "stream",
     "text": [
      "['A']\n",
      "['A']\n",
      "['B']\n",
      "['B']\n",
      "['B']\n",
      "['C']\n",
      "['C']\n",
      "['D']\n",
      "['D']\n",
      "['E']\n",
      "['E']\n",
      "['F']\n",
      "['F']\n",
      "['F']\n",
      "['G']\n",
      "['G']\n",
      "['H']\n",
      "['H']\n",
      "['H']\n",
      "['I']\n",
      "['J']\n",
      "['J']\n",
      "['K']\n",
      "['K']\n",
      "['K']\n",
      "['L']\n",
      "['L']\n",
      "['L']\n",
      "['M']\n",
      "['M']\n",
      "['M']\n",
      "['N']\n",
      "['N']\n",
      "['O']\n",
      "['P']\n",
      "['P']\n",
      "['P']\n",
      "['Q']\n",
      "['R']\n",
      "['R']\n",
      "['R']\n",
      "['S']\n",
      "['S']\n",
      "['S']\n",
      "['S']\n",
      "['S']\n",
      "['T']\n",
      "['T']\n",
      "['T']\n",
      "['U']\n",
      "['U']\n",
      "['V']\n",
      "['V', 'W']\n",
      "['V', 'W']\n",
      "['X']\n",
      "['Y']\n",
      "['Z']\n",
      "['Å']\n",
      "['Ä']\n",
      "['Ö']\n"
     ]
    }
   ],
   "source": [
    "volumes = edition2_volume_start_end.keys()\n",
    "\n",
    "labeled_data = []\n",
    "\n",
    "is_entry = False\n",
    "first_letter_list: list[str] = []\n",
    "for volume in tqdm(volumes):\n",
    "    first_letter_boundary = 0\n",
    "    volume_letters_index = -1\n",
    "    page_nbr = 0\n",
    "    with open(folder_edition2 + f\"{volume}.txt\", \"r\", encoding='utf-8') as f:\n",
    "        for line in f:\n",
    "            pagenbr_matches = re.search(r'page_number=(\\d+)', line)\n",
    "            if pagenbr_matches:\n",
    "                page_nbr = int(pagenbr_matches.group(1))\n",
    "                if page_nbr > first_letter_boundary:\n",
    "                    volume_letters_index += 1\n",
    "                    first_letter_list = edition2_volume_letters[volume][volume_letters_index][0]\n",
    "                    # try:\n",
    "                    first_letter_boundary = edition2_volume_letters[volume][volume_letters_index][1]\n",
    "                    # except:\n",
    "                    #     print(f\"volume = {volume}, volume_letters_index = {volume_letters_index}, page_nbr: {page_nbr}, \")\n",
    "                    #     break\n",
    "            else:\n",
    "                line = line.rstrip()[:MAX_ENTRY_LENGTH]\n",
    "                if line: # and (len(line) > 40) and (len(line) > 75 or line.find(\". Se \") == -1):\n",
    "                    item = {}\n",
    "                    # --- BOLD MATCHING --- create ground truth\n",
    "                    if line.startswith(tuple([f\"<b>{l}\" for l in first_letter_list])):\n",
    "                        line = clean_html_markup(line, classifier_remove_tags)\n",
    "                        item[\"class\"] = 1\n",
    "                        is_entry = True\n",
    "\n",
    "\n",
    "                    elif line and (not line.startswith(\"Fig. \")) and (not line.startswith(\"Ord, som saknas under K\")) and (not (line[0] in first_letter_list)) and line[0] in ALPHABET:\n",
    "                        item[\"class\"] = 0\n",
    "                        is_entry = True\n",
    "                    \n",
    "                    if is_entry:\n",
    "                        item[\"text\"] = line #this one should be last\n",
    "\n",
    "                        labeled_data.append(item)\n",
    "                        is_entry = False"
   ]
  },
  {
   "cell_type": "markdown",
   "metadata": {},
   "source": [
    "Run the code to split the fields and remove possible whitespaces"
   ]
  },
  {
   "cell_type": "code",
   "execution_count": null,
   "metadata": {},
   "outputs": [],
   "source": [
    "dataset = []\n",
    "\n",
    "for item in labeled_data:\n",
    "    item_class = item['class']\n",
    "    text = item['text']\n",
    "    values = [item_class, text]\n",
    "    dataset.append(values)\n",
    "\n",
    "dataset[:6]"
   ]
  },
  {
   "cell_type": "markdown",
   "metadata": {},
   "source": [
    "## Utilities\n",
    "\n",
    "Before you can use the dataset to train a model, you need to convert it into numbers. You will carry this with out the following steps and you will write a corresponding function.\n",
    "1. You will extract the $n$-grams up to trigrams (`all_ngrams()`);\n",
    "2. Trigrams can create many symbols that most student's machines cannot process. You will reduce their numbers using hash codes (`hash_ngrams()`);\n",
    "3. You will compute the relative frequencies of the $n$-grams, replaced here by the hash codes (`calc_ref_freq()`).\n",
    "4. The results will be stored in three dictionaries, for characters, bigrams, and trigrams. You will merge these dictionaries into one (`shift_keys()`).\n",
    "\n",
    "You will then apply the functions to vectorize the dataset."
   ]
  },
  {
   "cell_type": "markdown",
   "metadata": {},
   "source": [
    "### Extracting $n$-grams\n",
    "The goal of this section is that you extract the $n$-grams from a text. By default, you will lowercase the text. The result will have the form: `[chars, bigrams, trigrams]`"
   ]
  },
  {
   "cell_type": "markdown",
   "metadata": {},
   "source": [
    "Write a function to extract the $n$-grams of a sentence: `ngrams(sentence, n=1, lc=True)`, `n` is a parameters. You can use list slices for this."
   ]
  },
  {
   "cell_type": "code",
   "execution_count": null,
   "metadata": {},
   "outputs": [],
   "source": [
    "# Write your code here\n",
    "def ngrams(sentence, n=1, lc=True):\n",
    "    ngram_l = []\n",
    "    if lc:\n",
    "        sentence.lower()\n",
    "    for i in range(len(sentence) - n + 1):\n",
    "        # ngram_l.append(tuple(sentence[j] for j in range(i, i + n))) # den är så fin jag vill behålla den\n",
    "        ngram_l.append(sentence[i:i+n])\n",
    "    return ngram_l"
   ]
  },
  {
   "cell_type": "code",
   "execution_count": null,
   "metadata": {},
   "outputs": [],
   "source": [
    "ngrams('try something.')"
   ]
  },
  {
   "cell_type": "code",
   "execution_count": null,
   "metadata": {},
   "outputs": [],
   "source": [
    "ngrams('try something.', n=2)"
   ]
  },
  {
   "cell_type": "markdown",
   "metadata": {},
   "source": [
    "We now use this function to extract all the $n$-grams"
   ]
  },
  {
   "cell_type": "code",
   "execution_count": null,
   "metadata": {},
   "outputs": [],
   "source": [
    "def all_ngrams(sentence, max_ngram=3, lc=True):\n",
    "    all_ngram_list = []\n",
    "    for i in range(1, max_ngram + 1):\n",
    "        all_ngram_list += [ngrams(sentence, n=i, lc=lc)]\n",
    "    return all_ngram_list"
   ]
  },
  {
   "cell_type": "code",
   "execution_count": null,
   "metadata": {},
   "outputs": [],
   "source": [
    "all_ngrams('try something.')"
   ]
  },
  {
   "cell_type": "markdown",
   "metadata": {},
   "source": [
    "### Hashing"
   ]
  },
  {
   "cell_type": "markdown",
   "metadata": {},
   "source": [
    "We consider languages with many characters that will make the number of bigrams and trigrams impossible to process. We will use the _hashing trick_ to reduce them, where we will gather $n$-grams into subsets using hash codes.\n",
    "\n",
    "Each item will have this format:\n",
    "`[char_hcodes, bigram_hcodes, trigram_hcodes]`."
   ]
  },
  {
   "cell_type": "markdown",
   "metadata": {},
   "source": [
    "#### Description"
   ]
  },
  {
   "cell_type": "markdown",
   "metadata": {},
   "source": [
    "Python has a built-in hashing function that returns a unique numerical signature for a given string"
   ]
  },
  {
   "cell_type": "code",
   "execution_count": null,
   "metadata": {},
   "outputs": [],
   "source": [
    "hash('a'), hash('ab'), hash('abc')"
   ]
  },
  {
   "cell_type": "markdown",
   "metadata": {},
   "source": [
    "If we take the remainder (modulo) of a division by 5, we reduce the possible codes to: 0, 1, 2, 3, or 4"
   ]
  },
  {
   "cell_type": "code",
   "execution_count": null,
   "metadata": {},
   "outputs": [],
   "source": [
    "list(map(lambda x: x % 5, (hash('a'), hash('ab'), hash('abc'))))"
   ]
  },
  {
   "cell_type": "markdown",
   "metadata": {},
   "source": [
    "#### Implementation"
   ]
  },
  {
   "cell_type": "markdown",
   "metadata": {},
   "source": [
    "We set maximal numbers for our $n$-grams using these divisors"
   ]
  },
  {
   "cell_type": "code",
   "execution_count": null,
   "metadata": {},
   "outputs": [],
   "source": [
    "MAX_CHARS = 521\n",
    "MAX_BIGRAMS = 1031\n",
    "MAX_TRIGRAMS = 1031"
   ]
  },
  {
   "cell_type": "markdown",
   "metadata": {},
   "source": [
    "Here strings have integer codes within the range [0, `MAX_CHARS`["
   ]
  },
  {
   "cell_type": "code",
   "execution_count": null,
   "metadata": {},
   "outputs": [],
   "source": [
    "list(map(lambda x: x % MAX_CHARS, (hash('a'), hash('ab'), hash('abc'))))"
   ]
  },
  {
   "cell_type": "markdown",
   "metadata": {},
   "source": [
    "Hash codes may vary across machines and Marcus Klang wrote this function to have reproducible codes"
   ]
  },
  {
   "cell_type": "code",
   "execution_count": null,
   "metadata": {},
   "outputs": [],
   "source": [
    "def reproducible_hash(string):\n",
    "    \"\"\"\n",
    "    reproducible hash on any string\n",
    "    \n",
    "    Arguments:\n",
    "       string: python string object\n",
    "    \n",
    "    Returns:\n",
    "       signed int64\n",
    "    \"\"\"\n",
    "    \n",
    "    # We are using MD5 for speed not security.\n",
    "    h = hashlib.md5(string.encode(\"utf-8\"), usedforsecurity=False)\n",
    "    return int.from_bytes(h.digest()[0:8], 'big', signed=True)"
   ]
  },
  {
   "cell_type": "code",
   "execution_count": null,
   "metadata": {},
   "outputs": [],
   "source": [
    "reproducible_hash('a')"
   ]
  },
  {
   "cell_type": "code",
   "execution_count": null,
   "metadata": {},
   "outputs": [],
   "source": [
    "reproducible_hash('a') % MAX_CHARS"
   ]
  },
  {
   "cell_type": "markdown",
   "metadata": {},
   "source": [
    "### Converting $n$-grams to hash codes\n",
    "You will now convert the $n$-grams to hash codes\n"
   ]
  },
  {
   "cell_type": "code",
   "execution_count": null,
   "metadata": {},
   "outputs": [],
   "source": [
    "MAXES = [MAX_CHARS, MAX_BIGRAMS, MAX_TRIGRAMS]"
   ]
  },
  {
   "cell_type": "markdown",
   "metadata": {},
   "source": [
    "Create a `hash_ngrams` function that creates a list of hash codes from a list of $n$-grams. As arguments, you will have the list of $n$-grams `[chars, bigrams, trigrams]` as well as the list of dividers (`MAXES`).\n",
    "\n",
    "The output format will be a list of three lists:\n",
    "\n",
    "`[char_hcodes, bigram_hcodes, trigram_hcodes]`."
   ]
  },
  {
   "cell_type": "code",
   "execution_count": null,
   "metadata": {},
   "outputs": [],
   "source": [
    "# Write your code\n",
    "def hash_ngrams(ngrams, modulos):\n",
    "    hash_codes = []\n",
    "    chars = [reproducible_hash(i) % MAX_CHARS for i in ngrams[0]]\n",
    "    bigrams = [reproducible_hash(i) % MAX_BIGRAMS for i in ngrams[1]]\n",
    "    trigrams = [reproducible_hash(i) % MAX_TRIGRAMS for i in ngrams[2]]\n",
    "    hash_codes = [chars, bigrams, trigrams]\n",
    "    return hash_codes"
   ]
  },
  {
   "cell_type": "code",
   "execution_count": null,
   "metadata": {},
   "outputs": [],
   "source": [
    "all_ngrams('try something.')"
   ]
  },
  {
   "cell_type": "code",
   "execution_count": null,
   "metadata": {},
   "outputs": [],
   "source": [
    "hash_ngrams(all_ngrams('try something.'), MAXES)"
   ]
  },
  {
   "cell_type": "markdown",
   "metadata": {},
   "source": [
    "### Functions to Count Hash Codes"
   ]
  },
  {
   "cell_type": "markdown",
   "metadata": {},
   "source": [
    "Write a function `calc_rel_freq(codes)` to count the codes. As in CLD3, you will return the relative frequencies.\n",
    "\n",
    "This is just an application of `Counter` to a list of codes and then a division by the length.\n",
    "\n",
    "The input is a list of codes and the output is a `Counter` object of relative frequencies."
   ]
  },
  {
   "cell_type": "code",
   "execution_count": null,
   "metadata": {},
   "outputs": [],
   "source": [
    "# Write your code\n",
    "def calc_rel_freq(codes):\n",
    "    cnt = Counter(codes)\n",
    "    cnt = Counter({k: v / total for total in (sum(cnt.values()),) for k, v in cnt.items()})\n",
    "    # map(lambda x: x / len(codes), cnt.values())\n",
    "    # counter = Counter(map(lambda x: x[1], dataset_large))\n",
    "    return cnt"
   ]
  },
  {
   "cell_type": "code",
   "execution_count": null,
   "metadata": {},
   "outputs": [],
   "source": [
    "hash_ngrams(all_ngrams('try something.'), MAXES)"
   ]
  },
  {
   "cell_type": "code",
   "execution_count": null,
   "metadata": {},
   "outputs": [],
   "source": [
    "list(map(calc_rel_freq, hash_ngrams(all_ngrams('try something.'), MAXES)))\n"
   ]
  },
  {
   "cell_type": "code",
   "execution_count": null,
   "metadata": {},
   "outputs": [],
   "source": [
    "list(map(calc_rel_freq, hash_ngrams(all_ngrams('try something.'), MAXES)))"
   ]
  },
  {
   "cell_type": "markdown",
   "metadata": {},
   "source": [
    "### Merge the Dictionaries"
   ]
  },
  {
   "cell_type": "markdown",
   "metadata": {},
   "source": [
    "In the results above, we have three counter objects with numerical keys (the hash codes). You will build one dictionary of them.\n",
    "\n",
    "There is a key overlap and we must take care that a same hash code for the unigrams is not the same as in the bigrams. We will then shift the keys.\n",
    "\n",
    "The keys range from:\n",
    "1. Unigrams from 0 to 521, [0, MAX_CHARS[\n",
    "2. Bigrams from 0 to 1031, [0, MAX_BIGRAMS[\n",
    "3. Trigrams from 1 to 1031, [0, MAX_TRIGRAMS["
   ]
  },
  {
   "cell_type": "markdown",
   "metadata": {},
   "source": [
    "You will leave the unigrams keys as they are. You will shift the bigram keys by MAX_CHARS, and the trigram keys by MAX_CHARS + MAX_BIGRAMS. You can reuse the code below"
   ]
  },
  {
   "cell_type": "code",
   "execution_count": null,
   "metadata": {},
   "outputs": [],
   "source": [
    "MAX_SHIFT = []\n",
    "for i in range(len(MAXES)):\n",
    "    MAX_SHIFT += [sum(MAXES[:i])]"
   ]
  },
  {
   "cell_type": "code",
   "execution_count": null,
   "metadata": {},
   "outputs": [],
   "source": [
    "MAX_SHIFT"
   ]
  },
  {
   "cell_type": "markdown",
   "metadata": {},
   "source": [
    "Write a `shift_keys(dicts, MAX_SHIFT)` function that takes a list of dictionaries as input and the list of shifts and that a new unique dictionary, where the numerical keys have been shifted by the numbers in `MAX_SHIFT`"
   ]
  },
  {
   "cell_type": "code",
   "execution_count": null,
   "metadata": {},
   "outputs": [],
   "source": [
    "# Write your code here\n",
    "def shift_keys(dicts, MAX_SHIFT):\n",
    "    new_dict = {}\n",
    "    dicts = list(dicts)\n",
    "    new_dict.update(dicts[0].items())\n",
    "    new_dict.update({k + MAX_SHIFT[1]: v for k, v in dicts[1].items()})\n",
    "    new_dict.update({k + MAX_SHIFT[2]: v for k, v in dicts[2].items()})\n",
    "    # new_dict.update(dicts[0].items())\n",
    "    return new_dict"
   ]
  },
  {
   "cell_type": "code",
   "execution_count": null,
   "metadata": {},
   "outputs": [],
   "source": [
    "list(map(calc_rel_freq, hash_ngrams(all_ngrams('try something.'), MAXES)))"
   ]
  },
  {
   "cell_type": "code",
   "execution_count": null,
   "metadata": {},
   "outputs": [],
   "source": [
    "shift_keys(map(calc_rel_freq, hash_ngrams(all_ngrams('try something.'), MAXES)), MAX_SHIFT)\n"
   ]
  },
  {
   "cell_type": "code",
   "execution_count": null,
   "metadata": {},
   "outputs": [],
   "source": [
    "shift_keys(map(calc_rel_freq, hash_ngrams(all_ngrams('try something.'), MAXES)), MAX_SHIFT)"
   ]
  },
  {
   "cell_type": "markdown",
   "metadata": {},
   "source": [
    "Finally, we assemble all these utilities in a function"
   ]
  },
  {
   "cell_type": "code",
   "execution_count": null,
   "metadata": {},
   "outputs": [],
   "source": [
    "def build_freq_dict(sentence, MAXES=MAXES, MAX_SHIFT=MAX_SHIFT):\n",
    "    hngrams = hash_ngrams(all_ngrams(sentence), MAXES)\n",
    "    fhcodes = map(calc_rel_freq, hngrams)\n",
    "    return shift_keys(fhcodes, MAX_SHIFT)"
   ]
  },
  {
   "cell_type": "code",
   "execution_count": null,
   "metadata": {},
   "outputs": [],
   "source": [
    "build_freq_dict('try something.')"
   ]
  },
  {
   "cell_type": "markdown",
   "metadata": {},
   "source": [
    "## Converting the Dataset\n",
    "We can now enrich the dataset with a numerical representation of the sentence. We use the utility functions and we call this new version: `dataset_num`"
   ]
  },
  {
   "cell_type": "code",
   "execution_count": null,
   "metadata": {},
   "outputs": [],
   "source": [
    "dataset[:2]"
   ]
  },
  {
   "cell_type": "code",
   "execution_count": null,
   "metadata": {},
   "outputs": [],
   "source": [
    "dataset_num = []\n",
    "for datapoint in tqdm(dataset):\n",
    "    dataset_num += [list(datapoint) + [build_freq_dict(datapoint[1])]]"
   ]
  },
  {
   "cell_type": "code",
   "execution_count": null,
   "metadata": {},
   "outputs": [],
   "source": [
    "dataset_num[:2]"
   ]
  },
  {
   "cell_type": "markdown",
   "metadata": {},
   "source": [
    "## Programming: Building ${X}$"
   ]
  },
  {
   "cell_type": "markdown",
   "metadata": {},
   "source": [
    "You will now build the ${X}$ matrix."
   ]
  },
  {
   "cell_type": "markdown",
   "metadata": {},
   "source": [
    "### Vectorizing the features"
   ]
  },
  {
   "cell_type": "markdown",
   "metadata": {},
   "source": [
    "The CLD3 architecture uses embeddings. In this lab, we will simplify it and we will use a feature vector instead consisting of the character frequencies. For example, you will represent the text:\n",
    "\n",
    "`\"Let's try something.\"`\n",
    "\n",
    "with:\n",
    "\n",
    "`{'l': 0.05, 'e': 0.1, 't': 0.15, \"'\": 0.05, 's': 0.1, ' ': 0.1, \n",
    " 'r': 0.05, 'y': 0.05, 'o': 0.05, 'm': 0.05, 'h': 0.05, 'i': 0.05, \n",
    " 'n': 0.05, 'g': 0.05, '.': 0.05}`\n",
    "\n",
    "Note that we used characters and not codes to make it more legible.\n",
    "\n",
    "To create the ${X}$ matrix, we need to transform the dictionaries of `dataset_num` into numerical vectors. The `DictVectorizer` class from the scikit-learn library, see here [https://scikit-learn.org/stable/modules/generated/sklearn.feature_extraction.DictVectorizer.html], has two methods, `fit()` and `transform()`, and a combination of both `fit_transform()` to convert dictionaries into such vectors."
   ]
  },
  {
   "cell_type": "markdown",
   "metadata": {},
   "source": [
    "You will now write the code to:\n",
    "\n",
    "1. Extract the hash code frequency dictionaries from `dataset_num` corresponding to its 3rd index;\n",
    "2. Convert the list of dictionaries into an ${X}$ matrix using `DictVectorizer`."
   ]
  },
  {
   "cell_type": "markdown",
   "metadata": {},
   "source": [
    "#### Extracting the character frequencies"
   ]
  },
  {
   "cell_type": "markdown",
   "metadata": {},
   "source": [
    "Produce a new list of datapoints with the $n$-grams. Each item in this list will be a dictionary. You will call it `X_cat`"
   ]
  },
  {
   "cell_type": "code",
   "execution_count": null,
   "metadata": {},
   "outputs": [],
   "source": [
    "# Write your code here\n",
    "X_cat = [x[2] for x in dataset_num]\n",
    "dataset_num[0]"
   ]
  },
  {
   "cell_type": "code",
   "execution_count": null,
   "metadata": {},
   "outputs": [],
   "source": [
    "X_cat[0]"
   ]
  },
  {
   "cell_type": "markdown",
   "metadata": {},
   "source": [
    "#### Vectorize `X_cat`"
   ]
  },
  {
   "cell_type": "markdown",
   "metadata": {},
   "source": [
    "Convert you `X_cat` matrix into a numerical representation using `DictVectorizer`: https://scikit-learn.org/stable/modules/generated/sklearn.feature_extraction.DictVectorizer.html. You will set the `sparse` argument to False. Call the result `X`."
   ]
  },
  {
   "cell_type": "code",
   "execution_count": null,
   "metadata": {},
   "outputs": [],
   "source": [
    "# Write your code here\n",
    "v = DictVectorizer(sparse=False)\n",
    "X = v.fit_transform(X_cat)\n",
    "joblib.dump(v, 'dict_vectorizer_model.pkl')"
   ]
  },
  {
   "cell_type": "code",
   "execution_count": null,
   "metadata": {},
   "outputs": [],
   "source": [
    "X.shape"
   ]
  },
  {
   "cell_type": "code",
   "execution_count": null,
   "metadata": {},
   "outputs": [],
   "source": [
    "X[:6]"
   ]
  },
  {
   "cell_type": "markdown",
   "metadata": {},
   "source": [
    "## Programming: Building $\\mathbf{y}$"
   ]
  },
  {
   "cell_type": "markdown",
   "metadata": {},
   "source": [
    "You will now convert the list of language symbols into a $\\mathbf{y}$ vector"
   ]
  },
  {
   "cell_type": "markdown",
   "metadata": {},
   "source": [
    "Extract the language symbols from `dataset_small_feat` and call the resulting list `y_cat`"
   ]
  },
  {
   "cell_type": "code",
   "execution_count": null,
   "metadata": {},
   "outputs": [],
   "source": [
    "# Write your code here\n",
    "y_cat = [x[0] for x in dataset_num]"
   ]
  },
  {
   "cell_type": "code",
   "execution_count": null,
   "metadata": {},
   "outputs": [],
   "source": [
    "y_cat[:5]"
   ]
  },
  {
   "cell_type": "markdown",
   "metadata": {},
   "source": [
    "## Programming: Building the Model"
   ]
  },
  {
   "cell_type": "markdown",
   "metadata": {},
   "source": [
    "Create a neural network using sklearn with a hidden layer of 50 nodes and a relu activation layer: https://scikit-learn.org/stable/modules/neural_networks_supervised.html. Set the maximal number of iterations to 5, in the beginning, and verbose to True. Use the default values for the rest. You will call your classifier `clf`"
   ]
  },
  {
   "cell_type": "code",
   "execution_count": null,
   "metadata": {},
   "outputs": [],
   "source": [
    "# Write your code here\n",
    "clf = MLPClassifier(hidden_layer_sizes=(50,), max_iter=50, verbose=True)"
   ]
  },
  {
   "cell_type": "code",
   "execution_count": null,
   "metadata": {},
   "outputs": [],
   "source": [
    "clf"
   ]
  },
  {
   "cell_type": "markdown",
   "metadata": {},
   "source": [
    "### Training and Validation Sets"
   ]
  },
  {
   "cell_type": "markdown",
   "metadata": {},
   "source": [
    "You will now split the dataset into a training and validation sets"
   ]
  },
  {
   "cell_type": "markdown",
   "metadata": {},
   "source": [
    "#### We split the dataset\n",
    "We use a training set of 80% and a validation set of 20%"
   ]
  },
  {
   "cell_type": "code",
   "execution_count": null,
   "metadata": {},
   "outputs": [],
   "source": [
    "from sklearn.model_selection import train_test_split\n",
    "X_train, X_test, y_train, y_test = train_test_split(X, y_cat, test_size=0.2, random_state=42)"
   ]
  },
  {
   "cell_type": "markdown",
   "metadata": {
    "tags": []
   },
   "source": [
    "### Fitting the model"
   ]
  },
  {
   "cell_type": "markdown",
   "metadata": {},
   "source": [
    "Fit the model on the training set"
   ]
  },
  {
   "cell_type": "code",
   "execution_count": null,
   "metadata": {},
   "outputs": [],
   "source": [
    "# Write your code here\n",
    "model = clf.fit(X_train, y_train)"
   ]
  },
  {
   "cell_type": "markdown",
   "metadata": {},
   "source": [
    "## Predicting"
   ]
  },
  {
   "cell_type": "markdown",
   "metadata": {},
   "source": [
    "Predict the `X_val` languages. You will call the result `y_val_pred`"
   ]
  },
  {
   "cell_type": "code",
   "execution_count": null,
   "metadata": {},
   "outputs": [],
   "source": [
    "# Write your code here\n",
    "y_test_pred = clf.predict(X_test)"
   ]
  },
  {
   "cell_type": "code",
   "execution_count": null,
   "metadata": {},
   "outputs": [],
   "source": [
    "y_test_pred[:20]"
   ]
  },
  {
   "cell_type": "code",
   "execution_count": null,
   "metadata": {},
   "outputs": [],
   "source": [
    "y_test[:20]"
   ]
  },
  {
   "cell_type": "markdown",
   "metadata": {},
   "source": [
    "#### Evaluating"
   ]
  },
  {
   "cell_type": "markdown",
   "metadata": {},
   "source": [
    "Use the `accuracy_score()` function to evaluate your model on the validation set"
   ]
  },
  {
   "cell_type": "code",
   "execution_count": null,
   "metadata": {},
   "outputs": [],
   "source": [
    "# evaluate the model\n",
    "accuracy_score(y_test, y_test_pred)"
   ]
  },
  {
   "cell_type": "code",
   "execution_count": null,
   "metadata": {},
   "outputs": [],
   "source": [
    "print(classification_report(y_test, y_test_pred, target_names=[\"Not Article\", \"Article\"]))\n",
    "print('Micro F1:', f1_score(y_test, y_test_pred, average='micro'))\n",
    "print('Macro F1', f1_score(y_test, y_test_pred, average='macro'))"
   ]
  },
  {
   "cell_type": "markdown",
   "metadata": {},
   "source": [
    "### Confusion Matrix"
   ]
  },
  {
   "cell_type": "code",
   "execution_count": null,
   "metadata": {},
   "outputs": [],
   "source": [
    "confusion_matrix(y_test, y_test_pred)"
   ]
  },
  {
   "cell_type": "markdown",
   "metadata": {},
   "source": [
    "You may try to increase the number of iterations to improve the score. You may also try change the parameters of the multilayer percetron."
   ]
  },
  {
   "cell_type": "markdown",
   "metadata": {},
   "source": [
    "## Predict text as article or not article"
   ]
  },
  {
   "cell_type": "code",
   "execution_count": null,
   "metadata": {},
   "outputs": [],
   "source": [
    "docs = [\n",
    "    'Syrus, Publilius, författare af latinska folkskådespel (mimer), född i Antiokia, var slaf, men frigafs af sin husbonde. Sedan han skaffat sig tillräcklig bildning, började han skrifva och uppfö',\n",
    "    'Thalictrum L., Ängsrutsläktet, bot., ett släkte, hörande till fam. Ranunculaceæ, af oftast högväxta, glatta örter med spiralställda, 2-flerdubbelt pardelade blad, hvilkas gemensam', \n",
    "    'Från landshöfdingplatsen, på hvilken han utvecklade en erkännansvärd drift, tog T. af privata skäl afsked 7 aug. 1896 och antog befattningen som verkställande direktör i Trafikaktiebolaget Grängesberg', \n",
    "    'Nietzscheöfversättare. 1907 donerade han en stor summa till Nietzschearkivet i Weimar.',\n",
    "    ]"
   ]
  },
  {
   "cell_type": "markdown",
   "metadata": {},
   "source": [
    "Create features vectors from this list. Call this matrix `X_test`"
   ]
  },
  {
   "cell_type": "code",
   "execution_count": null,
   "metadata": {},
   "outputs": [],
   "source": [
    "# Write your code here\n",
    "docs_cat = [build_freq_dict(x) for x in docs]\n",
    "docs_cat[0]\n"
   ]
  },
  {
   "cell_type": "code",
   "execution_count": null,
   "metadata": {},
   "outputs": [],
   "source": [
    "X_test = v.transform(docs_cat)"
   ]
  },
  {
   "cell_type": "code",
   "execution_count": null,
   "metadata": {},
   "outputs": [],
   "source": [
    "X_test[:5]"
   ]
  },
  {
   "cell_type": "code",
   "execution_count": null,
   "metadata": {},
   "outputs": [],
   "source": [
    "X_test.shape"
   ]
  },
  {
   "cell_type": "markdown",
   "metadata": {},
   "source": [
    "And run the prediction that you will store in a variable called `pred_languages`"
   ]
  },
  {
   "cell_type": "code",
   "execution_count": null,
   "metadata": {},
   "outputs": [],
   "source": [
    "# Write your code here\n",
    "pred_languages = clf.predict(X_test)\n",
    "pred_languages"
   ]
  },
  {
   "cell_type": "code",
   "execution_count": null,
   "metadata": {},
   "outputs": [],
   "source": [
    "joblib.dump(clf, 'mlp_model.pkl')"
   ]
  }
 ],
 "metadata": {
  "kernelspec": {
   "display_name": "Python 3.9.12 ('base')",
   "language": "python",
   "name": "python3"
  },
  "language_info": {
   "codemirror_mode": {
    "name": "ipython",
    "version": 3
   },
   "file_extension": ".py",
   "mimetype": "text/x-python",
   "name": "python",
   "nbconvert_exporter": "python",
   "pygments_lexer": "ipython3",
   "version": "3.10.3"
  },
  "vscode": {
   "interpreter": {
    "hash": "b97b11a820675205aae8f1d7f2a3f22bbd3a2c30189f44042310baf5b4cd1987"
   }
  }
 },
 "nbformat": 4,
 "nbformat_minor": 4
}
