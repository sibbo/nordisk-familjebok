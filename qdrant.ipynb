{
 "cells": [
  {
   "cell_type": "markdown",
   "metadata": {},
   "source": [
    "# Creating the Qdrant database\n",
    "### Instructions:\n",
    "1. Start \"Docker Desktop\"\n",
    "2. Start \"Qdrant\" in terminal (wsl for windows):\n",
    " \n",
    "    ```docker run -p 6333:6333 -v $(pwd)/qdrant_storage:/qdrant/storage qdrant/qdrant```\n",
    "    \n",
    "    Wait for ascii-print-out. \n",
    "3. Run notebook"
   ]
  },
  {
   "cell_type": "code",
   "execution_count": 3,
   "metadata": {},
   "outputs": [],
   "source": [
    "# Taken from https://qdrant.tech/articles/neural-search-tutorial/\n",
    "\n",
    "# Import client library\n",
    "import numpy as np\n",
    "import json\n",
    "from qdrant_client import QdrantClient\n",
    "from qdrant_client.models import VectorParams, Distance\n",
    "\n",
    "qdrant_client = QdrantClient(host='localhost', port=6333)\n",
    "\n",
    "collection_names = ['e1', 'e2']"
   ]
  },
  {
   "cell_type": "code",
   "execution_count": 4,
   "metadata": {},
   "outputs": [
    {
     "name": "stderr",
     "output_type": "stream",
     "text": [
      "/var/folders/rj/vn874pf96jjcpwpn70z_mb1c0000gn/T/ipykernel_1232/855182034.py:2: DeprecationWarning: `recreate_collection` method is deprecated and will be removed in the future. Use `collection_exists` to check collection existence and `create_collection` instead.\n",
      "  qdrant_client.recreate_collection(\n",
      "WARNING:root:Batch upload failed 1 times. Retrying...\n",
      "WARNING:root:Batch upload failed 1 times. Retrying...\n",
      "WARNING:root:Batch upload failed 1 times. Retrying...\n",
      "WARNING:root:Batch upload failed 1 times. Retrying...\n",
      "WARNING:root:Batch upload failed 1 times. Retrying...\n",
      "WARNING:root:Batch upload failed 1 times. Retrying...\n",
      "WARNING:root:Batch upload failed 1 times. Retrying...\n",
      "WARNING:root:Batch upload failed 1 times. Retrying...\n"
     ]
    }
   ],
   "source": [
    "for collection_name in collection_names:\n",
    "    qdrant_client.recreate_collection(\n",
    "        collection_name=collection_name, \n",
    "        vectors_config=VectorParams(size=768, distance=Distance.COSINE),\n",
    "    )\n",
    "\n",
    "    # payload is now an iterator over startup data\n",
    "    # payload = map(json.loads, fd)\n",
    "    with open(f'{collection_name}.json', 'r', encoding='utf-8') as infile:\n",
    "        payload = json.loads(infile.read())\n",
    "\n",
    "    # Here we load all vectors into memory, numpy array works as iterable for itself.\n",
    "    # Other option would be to use Mmap, if we don't want to load all data into RAM\n",
    "    vectors = np.load(f'./vectors_{collection_name}.npy')\n",
    "\n",
    "    qdrant_client.upload_collection(\n",
    "    collection_name=collection_name,\n",
    "    vectors=vectors,\n",
    "    payload=payload,\n",
    "    ids=None,  # Vector ids will be assigned automatically\n",
    "    batch_size=256  # How many vectors will be uploaded in a single request?\n",
    "    )"
   ]
  },
  {
   "cell_type": "code",
   "execution_count": null,
   "metadata": {},
   "outputs": [],
   "source": [
    "# print(neural_searcher.search(\"<b>Paris</b> [franskt utt. pari], Frankrikes hufvudstad, näst London Europas folkrikaste stad, ligger under 2° 20' 15\\\" ö. lgd samt 48° 50' 11,2\\\" n. br. (nationalobservatoriet), på båda sidor om Seine,\"))\n",
    "# print(neural_searcher.search(\"<b>Fantasi</b> (Grek. <i>fantasia,</i> af <i>fantazein,</i> göra synbar), föreställningsförmåga, inbillningskraft; diktningsgåfva; inbillning, infall, nyck, hugskott; feberdröm; musikstycke utan bestä\"))"
   ]
  }
 ],
 "metadata": {
  "kernelspec": {
   "display_name": "Python 3",
   "language": "python",
   "name": "python3"
  },
  "language_info": {
   "codemirror_mode": {
    "name": "ipython",
    "version": 3
   },
   "file_extension": ".py",
   "mimetype": "text/x-python",
   "name": "python",
   "nbconvert_exporter": "python",
   "pygments_lexer": "ipython3",
   "version": "3.11.4"
  }
 },
 "nbformat": 4,
 "nbformat_minor": 2
}
