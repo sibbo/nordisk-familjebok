{
 "cells": [
  {
   "cell_type": "markdown",
   "metadata": {},
   "source": [
    "# Scraper\n",
    "\n",
    "This notebook scrapes the first and second editions of Nordisk Familjebok to raw text, e.g., (aa.txt and ba.txt)"
   ]
  },
  {
   "cell_type": "markdown",
   "metadata": {},
   "source": [
    "### Importing necessary packages and defining constants"
   ]
  },
  {
   "cell_type": "code",
   "execution_count": null,
   "metadata": {},
   "outputs": [],
   "source": [
    "import regex as re\n",
    "from urllib.request import urlopen\n",
    "from tqdm.notebook import tqdm\n",
    "from scraping_and_segmenting_helpers import *\n",
    "\n",
    "INDEX_BEGIN = \"<b>On this page / på denna sida</b>\\n\"\n",
    "INDEX_END = \"<p>\"\n",
    "\n",
    "DELIM_BEGIN = \"<!-- mode=normal -->\"\n",
    "DELIM_END = \"<!-- NEWIMAGE2 -->\"\n",
    "\n",
    "html_entities = [\n",
    "                [\"&quot;\", \"\\\"\"],\n",
    "                [\"&rsquo;\", \"\\'\"],\n",
    "                [\"&lsquo;\", \"\\'\"],\n",
    "                [\"&ndash;\", \"-\"],\n",
    "                [\"<br>\", \"\"],\n",
    "                ['<span class=\"sp\">', \"\"],\n",
    "                ['<span class=\"overline\">', \"\"],\n",
    "                ['<span class=\"sc\">', \"\"],\n",
    "                [\"</span>\", \"\"],\n",
    "                [\"&lt;\", \"<\"],\n",
    "                [\"&gt;\", \">\"],\n",
    "                [\"&nbsp;\", \" \"],\n",
    "                [\"&amp;\", \"&\"],\n",
    "                [\"<sub>\", \"\"],\n",
    "                [\"</sub>\", \"\"],\n",
    "                [\"<sup>\", \"\"],\n",
    "                [\"</sup>\", \"\"],\n",
    "                [\"<s>\", \"\"],\n",
    "                [\"</s>\", \"\"],\n",
    "                [\"<sp>\", \"\"],\n",
    "                [\"</sp>\", \"\"],\n",
    "                ]\n"
   ]
  },
  {
   "cell_type": "markdown",
   "metadata": {},
   "source": [
    "## Getting started: Scraping edition 1 and 2\n",
    "#### Functions for scraping"
   ]
  },
  {
   "cell_type": "code",
   "execution_count": null,
   "metadata": {},
   "outputs": [],
   "source": [
    "def get_substring_between_delimiters(s: str, start: str, end: str) -> str:\n",
    "    start_index = s.find(start)\n",
    "    if start_index == -1:\n",
    "        return None\n",
    "    start_index += len(start)\n",
    "    end_index = s.find(end, start_index)\n",
    "    if end_index == -1:\n",
    "        return None\n",
    "\n",
    "    return s[start_index: end_index]\n",
    "\n",
    "def remove_single_newline(s: str) -> str:\n",
    "    return re.sub(r'(?<!\\n)\\n(?!\\n)|(\\n+)(?=\\n)', ' ', s)\n",
    "\n",
    "def create_url(partial_url: str, i: int) -> str:\n",
    "    return partial_url + f\"{i:04d}\" + \".html\"\n",
    "\n",
    "def scrape_page_text_and_index(url: str) -> tuple[str, str]:\n",
    "    try:\n",
    "        page = urlopen(url)\n",
    "    except:\n",
    "        return None, None\n",
    "    html = page.read().decode(\"utf-8\")\n",
    "    index = get_substring_between_delimiters(html, INDEX_BEGIN, INDEX_END)\n",
    "    html = get_substring_between_delimiters(html, DELIM_BEGIN, DELIM_END)\n",
    "    if not index == None:\n",
    "        index = clean_html_markup(index, html_entities)\n",
    "        index = remove_single_newline(index)\n",
    "    if not html == None:\n",
    "        html = clean_html_markup(html, html_entities)\n",
    "        html = remove_single_newline(html)\n",
    "    return html, index\n",
    "\n",
    "def scrape_volume(base_url: str, volume_start_number: int, volume_end_number: int = 9999999) -> str:\n",
    "    i = volume_start_number\n",
    "    volume_str: str = \"\"\n",
    "    while(i <= volume_end_number):\n",
    "        url = create_url(base_url, i)\n",
    "        text, index = scrape_page_text_and_index(url)\n",
    "        if text == None or index == None:\n",
    "            i += 1\n",
    "            continue\n",
    "        volume_str += PAGE_NUMBER_STRING + str(i) + \", \"\n",
    "        volume_str += INDEX_STRING + index + \"\\n\"\n",
    "        volume_str += text\n",
    "        print(f\"i = {i}: {volume_str[-10:]}\")\n",
    "        i += 1\n",
    "    return volume_str\n",
    "\n",
    "def scrape_edition(\n",
    "    folder_edition: str, \n",
    "    edition_url_range: dict[str, str], \n",
    "    first_letter_list: list[str],\n",
    "    edition_volume_start_end: dict[str, tuple[int, int]],\n",
    "    ) -> None:\n",
    "    for first_letter in first_letter_list:\n",
    "        for second_letter in edition_url_range[first_letter]:\n",
    "            volume_index = first_letter + second_letter\n",
    "            f = open(folder_edition + volume_index + \".txt\", \"w\", encoding='utf-8')\n",
    "            volume_url = BASE_URL + volume_index + \"/\"\n",
    "            print(volume_url)\n",
    "            f.write(scrape_volume(volume_url, \n",
    "                volume_start_number=edition_volume_start_end[volume_index][0], \n",
    "                volume_end_number=edition_volume_start_end[volume_index][1])) \n",
    "            print(f\"volume index: {volume_index}\")\n",
    "            f.close()"
   ]
  },
  {
   "cell_type": "markdown",
   "metadata": {},
   "source": [
    "#### Getting the first edition (1800-tals utgåvan)"
   ]
  },
  {
   "cell_type": "code",
   "execution_count": null,
   "metadata": {},
   "outputs": [],
   "source": [
    "scrape_edition(folder_edition1, \n",
    "               edition1_url_range, \n",
    "               edition1_first_letter_list, \n",
    "               edition1_volume_start_end)"
   ]
  },
  {
   "cell_type": "markdown",
   "metadata": {},
   "source": [
    "#### Getting the second edition (ugglan)"
   ]
  },
  {
   "cell_type": "code",
   "execution_count": null,
   "metadata": {},
   "outputs": [],
   "source": [
    "scrape_edition(folder_edition2, \n",
    "               edition2_url_range, \n",
    "               edition2_first_letter_list, \n",
    "               edition2_volume_start_end)"
   ]
  },
  {
   "cell_type": "markdown",
   "metadata": {},
   "source": [
    "## Post processing of txt files\n",
    "Here we do some additional cleaning of the txt files:\n",
    "* Replace all multiple spaces with a single space\n",
    "* Any remaining html tags except `<b>` and `<i>` tags, such as image tags and references, are removed\n",
    "* `[rättelse ...]` brackets are removed from the first edition"
   ]
  },
  {
   "cell_type": "code",
   "execution_count": null,
   "metadata": {},
   "outputs": [],
   "source": [
    "def remove_multiple_spaces(file: str):\n",
    "    return re.sub(r\" {2,}\", r\" \", file)\n",
    "\n",
    "def remove_html_tags(file: str):\n",
    "    return re.sub(r\"<(?!\\/?(b|i)\\b)[^>\\n]*?>\", r\"\", file)\n",
    "    # return re.findall(r\"<(?!\\/?(b|i)\\b)[^>]*>\", file)\n",
    "\n",
    "def remove_rattelse(file: str):\n",
    "    return re.sub(r\"\\[rättelse.*\\]\", r\"\", file)\n",
    "\n",
    "def remove_line_with_only_spaces(file: str):\n",
    "    return re.sub(r\"^ \\n\", r\"\", file)\n",
    "\n",
    "def remove_space_at_start_of_line(file: str):\n",
    "    return re.sub(r\"\\n\\s+\", r\"\\n\", file)\n",
    "\n",
    "def remove_until_first_bold_tag(file: str):\n",
    "    return re.sub(r'^.*?(<b>)', r'\\1', file)\n",
    "\n",
    "def post_processing(folder: str, volumes: list[str]):\n",
    "    for volume in tqdm(volumes):\n",
    "        volume_string = \"\"\n",
    "        with open(folder + f\"{volume}.txt\", \"r\", encoding='utf-8') as f:\n",
    "            volume_string = f.read()\n",
    "            # print(f\"before: {volume_string[:100]}\")\n",
    "            volume_string = remove_rattelse(volume_string)\n",
    "            volume_string = remove_html_tags(volume_string)\n",
    "            volume_string = remove_multiple_spaces(volume_string)\n",
    "            volume_string = remove_line_with_only_spaces(volume_string)\n",
    "            volume_string = remove_space_at_start_of_line(volume_string)\n",
    "            volume_string = remove_until_first_bold_tag(volume_string)\n",
    "            # print(f\"after: {volume_string[:100]}\")\n",
    "            \n",
    "        with open(folder + f\"{volume}.txt\", \"w\", encoding='utf-8') as f:\n",
    "            f.write(volume_string)"
   ]
  },
  {
   "cell_type": "code",
   "execution_count": null,
   "metadata": {},
   "outputs": [],
   "source": [
    "post_processing(folder_edition1, edition1_volumes)\n",
    "post_processing(folder_edition2, edition2_volumes)"
   ]
  }
 ],
 "metadata": {
  "kernelspec": {
   "display_name": "Python 3",
   "language": "python",
   "name": "python3"
  },
  "language_info": {
   "codemirror_mode": {
    "name": "ipython",
    "version": 3
   },
   "file_extension": ".py",
   "mimetype": "text/x-python",
   "name": "python",
   "nbconvert_exporter": "python",
   "pygments_lexer": "ipython3",
   "version": "3.10.3"
  }
 },
 "nbformat": 4,
 "nbformat_minor": 2
}
