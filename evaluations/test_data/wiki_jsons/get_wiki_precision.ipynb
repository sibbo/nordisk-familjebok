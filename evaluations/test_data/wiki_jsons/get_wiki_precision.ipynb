{
 "cells": [
  {
   "cell_type": "code",
   "execution_count": null,
   "metadata": {},
   "outputs": [],
   "source": [
    "import os\n",
    "os.chdir('../../..')\n",
    "print(os.getcwd())\n",
    "\n",
    "import random\n",
    "import utils.json_helpers as jh\n",
    "from utils.paths import *\n",
    "\n",
    "fields = ['headword', 'entryid', 'text', ]\n",
    "num_entries = 25\n",
    "edition_name = 'e2'\n",
    "outfile_name = \"wiki_precision\""
   ]
  },
  {
   "cell_type": "code",
   "execution_count": null,
   "metadata": {},
   "outputs": [],
   "source": [
    "items = jh.read_items(f'{ENCYCLOPEDIAS_JSON_FOLDER}/{edition_name}')\n",
    "items = [item for item in items if item['qid'] != \"0\" and item['latitude'] != None]\n",
    "for item in items:\n",
    "    item['correct_qid'] = \"0\"\n",
    "    item[\"correct_latitude\"] = None\n",
    "    item[\"correct_longitude\"] = None\n",
    "random_items = random.sample(items, num_entries)\n",
    "random_items\n"
   ]
  },
  {
   "cell_type": "code",
   "execution_count": null,
   "metadata": {},
   "outputs": [],
   "source": [
    "jh.write_items(random_items, f\"{edition_name}_{outfile_name}\")"
   ]
  },
  {
   "cell_type": "markdown",
   "metadata": {},
   "source": [
    "## After annotating"
   ]
  },
  {
   "cell_type": "markdown",
   "metadata": {},
   "source": [
    "Use the notebook `evaluation.ipynb` in `notebooks/nbs_eval_test`"
   ]
  }
 ],
 "metadata": {
  "kernelspec": {
   "display_name": "Python 3",
   "language": "python",
   "name": "python3"
  },
  "language_info": {
   "codemirror_mode": {
    "name": "ipython",
    "version": 3
   },
   "file_extension": ".py",
   "mimetype": "text/x-python",
   "name": "python",
   "nbconvert_exporter": "python",
   "pygments_lexer": "ipython3",
   "version": "3.10.3"
  }
 },
 "nbformat": 4,
 "nbformat_minor": 2
}
