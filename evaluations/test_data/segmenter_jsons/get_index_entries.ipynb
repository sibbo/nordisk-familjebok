{
 "cells": [
  {
   "cell_type": "code",
   "execution_count": null,
   "metadata": {},
   "outputs": [],
   "source": [
    "import os\n",
    "os.chdir('../../..')\n",
    "print(os.getcwd())\n",
    "\n",
    "import random\n",
    "import utils.json_helpers as jh\n",
    "from utils.paths import *\n",
    "\n",
    "fields = ['headword', 'entryid', 'text']\n",
    "num_entries = 50\n",
    "edition_name = 'e2'"
   ]
  },
  {
   "cell_type": "code",
   "execution_count": null,
   "metadata": {},
   "outputs": [],
   "source": [
    "items = jh.read_items(f'{ENCYCLOPEDIAS_JSON_FOLDER}/{edition_name}')\n",
    "items = [{key: item[key] for key in fields} for item in items if item['class'] == 1]\n",
    "for item in items:\n",
    "    item['is_entry'] = 1\n",
    "random_items = random.sample(items, num_entries)\n",
    "random_items\n"
   ]
  },
  {
   "cell_type": "code",
   "execution_count": null,
   "metadata": {},
   "outputs": [],
   "source": [
    "jh.write_items(random_items, f\"{edition_name}_location_precision\")"
   ]
  },
  {
   "cell_type": "markdown",
   "metadata": {},
   "source": [
    "## After annotating"
   ]
  },
  {
   "cell_type": "code",
   "execution_count": null,
   "metadata": {},
   "outputs": [],
   "source": [
    "os.chdir('./evaluations/test_data/location_classifier_jsons/')\n",
    "print(os.getcwd())"
   ]
  },
  {
   "cell_type": "code",
   "execution_count": null,
   "metadata": {},
   "outputs": [],
   "source": [
    "items = jh.read_items(f\"{edition_name}_location_precision\")\n",
    "items = [item for item in items if item['is_entry'] == 1]\n",
    "len(items) / num_entries"
   ]
  }
 ],
 "metadata": {
  "kernelspec": {
   "display_name": "Python 3",
   "language": "python",
   "name": "python3"
  },
  "language_info": {
   "codemirror_mode": {
    "name": "ipython",
    "version": 3
   },
   "file_extension": ".py",
   "mimetype": "text/x-python",
   "name": "python",
   "nbconvert_exporter": "python",
   "pygments_lexer": "ipython3",
   "version": "3.10.3"
  }
 },
 "nbformat": 4,
 "nbformat_minor": 2
}
