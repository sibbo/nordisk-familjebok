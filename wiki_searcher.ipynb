{
 "cells": [
  {
   "cell_type": "markdown",
   "metadata": {},
   "source": [
    "# Searching for articles in WikiData"
   ]
  },
  {
   "cell_type": "code",
   "execution_count": 1,
   "metadata": {},
   "outputs": [],
   "source": [
    "import requests\n",
    "import json\n",
    "import numpy as np\n",
    "from qdrant_client import QdrantClient\n",
    "from tqdm.notebook import tqdm\n",
    "from sentence_transformers import SentenceTransformer\n",
    "from sklearn.metrics.pairwise import cosine_similarity\n",
    "\n",
    "WIKIDATA_URL = \"https://www.wikidata.org/w/api.php\"\n",
    "model = SentenceTransformer('KBLab/sentence-bert-swedish-cased', device='cpu')\n"
   ]
  },
  {
   "cell_type": "code",
   "execution_count": 23,
   "metadata": {},
   "outputs": [],
   "source": [
    "def search_wikidata(query):\n",
    "    params = {\n",
    "        \"action\": \"wbsearchentities\",\n",
    "        \"format\": \"json\",\n",
    "        \"language\": \"sv\",  # Language dictating how searches are made\n",
    "        \"uselang\": \"sv\",   # Language of item description\n",
    "        \"limit\": 10,       # Number of search results\n",
    "        \"search\": query,\n",
    "    }\n",
    "    response = requests.get(WIKIDATA_URL, params=params)\n",
    "    if 'search' not in response.json().keys():\n",
    "        return None\n",
    "    return response.json()['search']\n",
    "\n",
    "# def get_wikipedia_article_from_qid(qid: str):\n",
    "#     params = {\n",
    "#         \"action\": \"wbgetentities\",\n",
    "#         \"format\": \"json\",\n",
    "#         # \"lang\": \"sv\",  # Language dictating how searches are made\n",
    "#         \"props\": \"sitelinks\",\n",
    "#         \"ids\": qid,\n",
    "#         \"sitefilter\": \"svwiki\",\n",
    "#         # \"uselang\": \"sv\",   # Language of item description\n",
    "#         # \"limit\": 10,       # Number of search results\n",
    "#         # \"search\": query,\n",
    "#     }\n",
    "#     response = requests.get(WIKIDATA_URL, params=params)\n",
    "#     return response.json()\n",
    "\n",
    "def search_property(qid, prop='P625'):\n",
    "    params = {\n",
    "        \"action\": \"wbgetentities\",\n",
    "        \"format\": \"json\",\n",
    "        \"languages\": \"se\",\n",
    "        \"ids\": qid,\n",
    "        \"props\": \"claims\",\n",
    "    }\n",
    "    response = requests.get(WIKIDATA_URL, params=params)\n",
    "    data = response.json()['entities'].get(qid)\n",
    "    if not data:\n",
    "        print(f\"QID: {qid} was not found\")\n",
    "        return None\n",
    "\n",
    "    prop_claim = data['claims'].get(prop)\n",
    "    if not prop_claim:\n",
    "        print(f\"Entity: {qid} does not have property: {prop}\")\n",
    "        return None\n",
    "\n",
    "    prop_value = prop_claim[0]['mainsnak']['datavalue']['value']\n",
    "    return prop_value\n",
    "\n",
    "def get_qid(entity):\n",
    "    return entity['id']\n",
    "\n",
    "def get_description(entity):\n",
    "    return entity.get('display', '').get('description', '').get('value', '')\n"
   ]
  },
  {
   "cell_type": "code",
   "execution_count": 4,
   "metadata": {},
   "outputs": [
    {
     "data": {
      "text/plain": [
       "{'headword': 'A',\n",
       " 'entryid': 'e1_aa_9_0',\n",
       " 'text': '<b>A</b> är den första <i>bokstafven</i> i alla indoeuropeiska språks alfabet utom i den vanliga runföljden, der det innehar det tionde rummet.  Det är tillika det renaste och klaraste af alla <i>språ',\n",
       " 'type': 0,\n",
       " 'qid': '0',\n",
       " 'second_edition_key': 'e2_ba_13_0',\n",
       " 'fourth_edition_key': ''}"
      ]
     },
     "execution_count": 4,
     "metadata": {},
     "output_type": "execute_result"
    }
   ],
   "source": [
    "with open('e1_linked.json', 'r', encoding='utf-8') as infile:\n",
    "    e1_items = json.loads(infile.read())\n",
    "e1_items[0]\n",
    "# examples = [\n",
    "#     [\"Paris\", \"<b>Paris</b> [franskt utt. pari], Frankrikes hufvudstad, näst London Europas folkrikaste stad, ligger under 2° 20' 15\\\" ö. lgd samt 48° 50' 11,2\\\" n. br. (nationalobservatoriet), på båda sidor om Seine,\"],\n",
    "#     [\"Fantasi\", \"<b>Fantasi</b> (Grek. <i>fantasia,</i> af <i>fantazein,</i> göra synbar), föreställningsförmåga, inbillningskraft; diktningsgåfva; inbillning, infall, nyck, hugskott; feberdröm; musikstycke utan bestä\"],\n",
    "#     [\"Åkarp\", \"<b>Åkarp.</b> 1. Socknar. Se Norra Åkarp och Södra Åkarp. - 2. Municipalsamhälle (jämlikt k. br. 21 nov. 1913) i Malmöhus län, Burlöfs och Tottarps socknar, beläget vid statens järnvägar, 8 km. från L\"],\n",
    "# ]"
   ]
  },
  {
   "cell_type": "code",
   "execution_count": null,
   "metadata": {},
   "outputs": [],
   "source": [
    "# search_term = \"åkarp\"\n",
    "# result = search_wikidata(search_term)\n",
    "\n",
    "# for search_item in result:\n",
    "#     print(search_item)"
   ]
  },
  {
   "cell_type": "markdown",
   "metadata": {},
   "source": [
    "## Compare with wikidata description for comparison of cosine similarity"
   ]
  },
  {
   "cell_type": "code",
   "execution_count": 30,
   "metadata": {},
   "outputs": [
    {
     "data": {
      "application/vnd.jupyter.widget-view+json": {
       "model_id": "b69cba98bb654842b43d24c15f9bb5da",
       "version_major": 2,
       "version_minor": 0
      },
      "text/plain": [
       "  0%|          | 0/10 [00:00<?, ?it/s]"
      ]
     },
     "metadata": {},
     "output_type": "display_data"
    },
    {
     "name": "stdout",
     "output_type": "stream",
     "text": [
      "Entity: Q9659 does not have property: P625\n",
      "A: None\n"
     ]
    },
    {
     "data": {
      "application/vnd.jupyter.widget-view+json": {
       "model_id": "cc2b798b0cb04d42ab9227f5027594c2",
       "version_major": 2,
       "version_minor": 0
      },
      "text/plain": [
       "  0%|          | 0/10 [00:00<?, ?it/s]"
      ]
     },
     "metadata": {},
     "output_type": "display_data"
    },
    {
     "name": "stdout",
     "output_type": "stream",
     "text": [
      "Entity: Q9659 does not have property: P625\n",
      "A: None\n"
     ]
    },
    {
     "data": {
      "application/vnd.jupyter.widget-view+json": {
       "model_id": "fe363a86fc0340129687d1fc8a12173d",
       "version_major": 2,
       "version_minor": 0
      },
      "text/plain": [
       "  0%|          | 0/10 [00:00<?, ?it/s]"
      ]
     },
     "metadata": {},
     "output_type": "display_data"
    },
    {
     "name": "stdout",
     "output_type": "stream",
     "text": [
      "Aa: 59.423611111111, 27.1525\n"
     ]
    },
    {
     "data": {
      "application/vnd.jupyter.widget-view+json": {
       "model_id": "796bb94602ab476d85350552ec1553a8",
       "version_major": 2,
       "version_minor": 0
      },
      "text/plain": [
       "  0%|          | 0/10 [00:00<?, ?it/s]"
      ]
     },
     "metadata": {},
     "output_type": "display_data"
    },
    {
     "name": "stdout",
     "output_type": "stream",
     "text": [
      "Aabenraa: 55.044444444444, 9.4180555555556\n"
     ]
    },
    {
     "data": {
      "application/vnd.jupyter.widget-view+json": {
       "model_id": "818740ce47b9448eacc28043fffba12d",
       "version_major": 2,
       "version_minor": 0
      },
      "text/plain": [
       "  0%|          | 0/10 [00:00<?, ?it/s]"
      ]
     },
     "metadata": {},
     "output_type": "display_data"
    },
    {
     "name": "stdout",
     "output_type": "stream",
     "text": [
      "Aachen: 50.75, 6.25\n"
     ]
    },
    {
     "data": {
      "application/vnd.jupyter.widget-view+json": {
       "model_id": "7e9be951ab3745beabea2b41f98ab3cc",
       "version_major": 2,
       "version_minor": 0
      },
      "text/plain": [
       "  0%|          | 0/2 [00:00<?, ?it/s]"
      ]
     },
     "metadata": {},
     "output_type": "display_data"
    },
    {
     "name": "stdout",
     "output_type": "stream",
     "text": [
      "Aafjord: 63.918888888889, 10.073611111111\n"
     ]
    },
    {
     "data": {
      "application/vnd.jupyter.widget-view+json": {
       "model_id": "196cecc3e2364ca39dfd42ede8eb02c7",
       "version_major": 2,
       "version_minor": 0
      },
      "text/plain": [
       "  0%|          | 0/1 [00:00<?, ?it/s]"
      ]
     },
     "metadata": {},
     "output_type": "display_data"
    },
    {
     "name": "stdout",
     "output_type": "stream",
     "text": [
      "Entity: Q455518 does not have property: P625\n",
      "Aagesön: None\n"
     ]
    },
    {
     "data": {
      "application/vnd.jupyter.widget-view+json": {
       "model_id": "348999aa8abc4f8e8db64f077d109514",
       "version_major": 2,
       "version_minor": 0
      },
      "text/plain": [
       "  0%|          | 0/10 [00:00<?, ?it/s]"
      ]
     },
     "metadata": {},
     "output_type": "display_data"
    },
    {
     "name": "stdout",
     "output_type": "stream",
     "text": [
      "Entity: Q300815 does not have property: P625\n",
      "Aak: None\n"
     ]
    },
    {
     "data": {
      "application/vnd.jupyter.widget-view+json": {
       "model_id": "815dea76e47c480997932b82d34bfd18",
       "version_major": 2,
       "version_minor": 0
      },
      "text/plain": [
       "  0%|          | 0/10 [00:00<?, ?it/s]"
      ]
     },
     "metadata": {},
     "output_type": "display_data"
    },
    {
     "name": "stdout",
     "output_type": "stream",
     "text": [
      "Aakirkeby: 55.061836146049, 14.90781569946\n"
     ]
    }
   ],
   "source": [
    "# take the description of each item, compute embedding with kb-sbert\n",
    "# where should we take the data from? qdrant or json or what\n",
    "results = []\n",
    "iterations = 0\n",
    "for e in e1_items:\n",
    "    iterations += 1\n",
    "    if iterations > 10:\n",
    "        break\n",
    "    search_term = e['headword']\n",
    "    if search_term == \"\":\n",
    "        continue\n",
    "    result = search_wikidata(search_term)\n",
    "    if not result :\n",
    "        continue\n",
    "    vectors = []\n",
    "    for item in tqdm(result):\n",
    "        if \"description\" in item.keys():\n",
    "            vectors.append(model.encode(item[\"description\"]).tolist())\n",
    "        else:\n",
    "            vectors.append([0] * 768)\n",
    "    \n",
    "    example_vector = model.encode(e['text'])\n",
    "    scores = cosine_similarity([example_vector], vectors)[0]\n",
    "\n",
    "    best_match_index = list(scores).index(max(scores))\n",
    "\n",
    "    qid = get_qid(result[best_match_index])\n",
    "    coords = search_property(qid)\n",
    "    if coords == None:\n",
    "        print(f\"{e['headword']}: None\")\n",
    "    else:\n",
    "        print(f\"{e['headword']}: {coords['latitude']}, {coords['longitude']}\")\n",
    "        e['type'] = 1\n",
    "        e['coordinates'] = [coords['latitude'], coords['longitude']]\n",
    "    e['qid'] = qid\n",
    "    \n",
    "\n",
    "with open('e1_linked2.json', 'w', encoding='utf-8') as outfile:\n",
    "    json.dump(e1_items, outfile, ensure_ascii=False, indent=4)\n",
    "# results\n",
    "\n",
    "# return the one with the highest cosine sim\n",
    "# if it has P625 property (coordinate location), edit something\n",
    "# edit the qdrant or json or smth\n"
   ]
  },
  {
   "cell_type": "code",
   "execution_count": 21,
   "metadata": {},
   "outputs": [
    {
     "data": {
      "text/plain": [
       "{'id': 'Q2402092',\n",
       " 'title': 'Q2402092',\n",
       " 'pageid': 2320476,\n",
       " 'display': {'label': {'value': 'Åkarp', 'language': 'sv'},\n",
       "  'description': {'value': 'tätort i Burlövs kommun, Sverige',\n",
       "   'language': 'sv'}},\n",
       " 'repository': 'wikidata',\n",
       " 'concepturi': 'http://www.wikidata.org/entity/Q2402092',\n",
       " 'label': 'Åkarp',\n",
       " 'description': 'tätort i Burlövs kommun, Sverige',\n",
       " 'match': {'type': 'label', 'language': 'sv', 'text': 'Åkarp'}}"
      ]
     },
     "execution_count": 21,
     "metadata": {},
     "output_type": "execute_result"
    }
   ],
   "source": [
    "\n",
    "example_vectors = []\n",
    "for e in examples:\n",
    "    example_vectors.append(model.encode(e))\n",
    "\n",
    "scores = []\n",
    "for e in example_vectors:\n",
    "    cosine_similarity([e], vectors)[0]  # Look for the most similar vectors, manually score all vectors\n",
    "scores\n",
    "best_match_index = list(scores).index(max(scores))\n",
    "\n",
    "result[best_match_index]\n",
    "# top_scores_ids = np.argsort(scores)[-5:][::-1]  # Select top-5 with vectors the largest scores   \n",
    "\n"
   ]
  }
 ],
 "metadata": {
  "kernelspec": {
   "display_name": "base",
   "language": "python",
   "name": "python3"
  },
  "language_info": {
   "codemirror_mode": {
    "name": "ipython",
    "version": 3
   },
   "file_extension": ".py",
   "mimetype": "text/x-python",
   "name": "python",
   "nbconvert_exporter": "python",
   "pygments_lexer": "ipython3",
   "version": "3.11.4"
  }
 },
 "nbformat": 4,
 "nbformat_minor": 2
}
