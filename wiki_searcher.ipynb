{
 "cells": [
  {
   "cell_type": "markdown",
   "metadata": {},
   "source": [
    "# Searching for articles in WikiData"
   ]
  },
  {
   "cell_type": "code",
   "execution_count": 10,
   "metadata": {},
   "outputs": [],
   "source": [
    "import requests\n",
    "import numpy as np\n",
    "from tqdm.notebook import tqdm\n",
    "from sentence_transformers import SentenceTransformer\n",
    "from sklearn.metrics.pairwise import cosine_similarity\n",
    "\n",
    "WIKIDATA_URL = \"https://www.wikidata.org/w/api.php\"\n",
    "model = SentenceTransformer('KBLab/sentence-bert-swedish-cased', device='cpu')\n"
   ]
  },
  {
   "cell_type": "code",
   "execution_count": 17,
   "metadata": {},
   "outputs": [],
   "source": [
    "def search_wikidata(query):\n",
    "    params = {\n",
    "        \"action\": \"wbsearchentities\",\n",
    "        \"format\": \"json\",\n",
    "        \"language\": \"sv\",  # Language dictating how searches are made\n",
    "        \"uselang\": \"sv\",   # Language of item description\n",
    "        \"limit\": 10,       # Number of search results\n",
    "        \"search\": query,\n",
    "        \"props\": \"P625\"\n",
    "    }\n",
    "    response = requests.get(WIKIDATA_URL, params=params)\n",
    "    return response.json()['search']\n",
    "\n",
    "# def get_wikipedia_article_from_qid(qid: str):\n",
    "#     params = {\n",
    "#         \"action\": \"wbgetentities\",\n",
    "#         \"format\": \"json\",\n",
    "#         # \"lang\": \"sv\",  # Language dictating how searches are made\n",
    "#         \"props\": \"sitelinks\",\n",
    "#         \"ids\": qid,\n",
    "#         \"sitefilter\": \"svwiki\",\n",
    "#         # \"uselang\": \"sv\",   # Language of item description\n",
    "#         # \"limit\": 10,       # Number of search results\n",
    "#         # \"search\": query,\n",
    "#     }\n",
    "#     response = requests.get(WIKIDATA_URL, params=params)\n",
    "#     return response.json()\n",
    "\n",
    "def search_property(qid, prop='P625'):\n",
    "    params = {\n",
    "        \"action\": \"wbgetentities\",\n",
    "        \"format\": \"json\",\n",
    "        \"languages\": \"se\",\n",
    "        \"ids\": qid,\n",
    "        \"props\": \"claims\",\n",
    "    }\n",
    "    response = requests.get(WIKIDATA_URL, params=params)\n",
    "    data = response.json()['entities'].get(qid)\n",
    "    if not data:\n",
    "        print(f\"QID: {qid} was not found\")\n",
    "        return None\n",
    "\n",
    "    prop_claim = data['claims'].get(prop)\n",
    "    if not prop_claim:\n",
    "        print(f\"Entity: {qid} does not have property: {prop}\")\n",
    "        return None\n",
    "\n",
    "    prop_value = prop_claim[0]['mainsnak']['datavalue']['value']\n",
    "    return prop_value\n",
    "\n",
    "def get_qid(entity):\n",
    "    return entity['id']\n",
    "\n",
    "def get_description(entity):\n",
    "    return entity.get('display', '').get('description', '').get('value', '')\n"
   ]
  },
  {
   "cell_type": "code",
   "execution_count": 6,
   "metadata": {},
   "outputs": [],
   "source": [
    "examples = [\n",
    "    [\"Paris\", \"<b>Paris</b> [franskt utt. pari], Frankrikes hufvudstad, näst London Europas folkrikaste stad, ligger under 2° 20' 15\\\" ö. lgd samt 48° 50' 11,2\\\" n. br. (nationalobservatoriet), på båda sidor om Seine,\"],\n",
    "    [\"Fantasi\", \"<b>Fantasi</b> (Grek. <i>fantasia,</i> af <i>fantazein,</i> göra synbar), föreställningsförmåga, inbillningskraft; diktningsgåfva; inbillning, infall, nyck, hugskott; feberdröm; musikstycke utan bestä\"],\n",
    "    [\"Åkarp\", \"<b>Åkarp.</b> 1. Socknar. Se Norra Åkarp och Södra Åkarp. - 2. Municipalsamhälle (jämlikt k. br. 21 nov. 1913) i Malmöhus län, Burlöfs och Tottarps socknar, beläget vid statens järnvägar, 8 km. från L\"],\n",
    "]"
   ]
  },
  {
   "cell_type": "code",
   "execution_count": null,
   "metadata": {},
   "outputs": [],
   "source": [
    "# search_term = \"åkarp\"\n",
    "# result = search_wikidata(search_term)\n",
    "\n",
    "# for search_item in result:\n",
    "#     print(search_item)"
   ]
  },
  {
   "cell_type": "markdown",
   "metadata": {},
   "source": [
    "## Compare with wikidata description for comparison of cosine similarity"
   ]
  },
  {
   "cell_type": "code",
   "execution_count": 27,
   "metadata": {},
   "outputs": [
    {
     "data": {
      "application/vnd.jupyter.widget-view+json": {
       "model_id": "252db2ab6bdc4a8bbf00854129cbbed7",
       "version_major": 2,
       "version_minor": 0
      },
      "text/plain": [
       "  0%|          | 0/10 [00:00<?, ?it/s]"
      ]
     },
     "metadata": {},
     "output_type": "display_data"
    },
    {
     "name": "stdout",
     "output_type": "stream",
     "text": [
      "Paris: 48.85666666666667, 2.352222222222222\n"
     ]
    },
    {
     "data": {
      "application/vnd.jupyter.widget-view+json": {
       "model_id": "606f37366e524a76975bf73870acaa6f",
       "version_major": 2,
       "version_minor": 0
      },
      "text/plain": [
       "  0%|          | 0/10 [00:00<?, ?it/s]"
      ]
     },
     "metadata": {},
     "output_type": "display_data"
    },
    {
     "name": "stdout",
     "output_type": "stream",
     "text": [
      "Entity: Q96634588 does not have property: P625\n",
      "Fantasi: None\n"
     ]
    },
    {
     "data": {
      "application/vnd.jupyter.widget-view+json": {
       "model_id": "ae9bbfff87d1414b9d8b1e8e59eba1c3",
       "version_major": 2,
       "version_minor": 0
      },
      "text/plain": [
       "  0%|          | 0/10 [00:00<?, ?it/s]"
      ]
     },
     "metadata": {},
     "output_type": "display_data"
    },
    {
     "name": "stdout",
     "output_type": "stream",
     "text": [
      "Åkarp: 55.653998464109, 13.110953208687\n"
     ]
    }
   ],
   "source": [
    "# take the description of each item, compute embedding with kb-sbert\n",
    "results = []\n",
    "for e in examples:\n",
    "    search_term = e[0]\n",
    "    result = search_wikidata(search_term)\n",
    "    vectors = []\n",
    "    for item in tqdm(result):\n",
    "        if \"description\" in item.keys():\n",
    "            vectors.append(model.encode(item[\"description\"]).tolist())\n",
    "        else:\n",
    "            vectors.append([0] * 768)\n",
    "    \n",
    "    example_vector = model.encode(e[1])\n",
    "    scores = cosine_similarity([example_vector], vectors)[0]\n",
    "\n",
    "    best_match_index = list(scores).index(max(scores))\n",
    "\n",
    "    qid = get_qid(result[best_match_index])\n",
    "    coords = search_property(qid)\n",
    "    if coords == None:\n",
    "        print(f\"{e[0]}: None\")\n",
    "    else:\n",
    "        print(f\"{e[0]}: {coords['latitude']}, {coords['longitude']}\")\n",
    "\n",
    "    # results.append(result[best_match_index])\n",
    "\n",
    "# results\n",
    "\n",
    "# return the one with the highest cosine sim\n",
    "# if it has P625 property (coordinate location), edit something\n",
    "# edit the qdrant or json or smth\n"
   ]
  },
  {
   "cell_type": "code",
   "execution_count": 21,
   "metadata": {},
   "outputs": [
    {
     "data": {
      "text/plain": [
       "{'id': 'Q2402092',\n",
       " 'title': 'Q2402092',\n",
       " 'pageid': 2320476,\n",
       " 'display': {'label': {'value': 'Åkarp', 'language': 'sv'},\n",
       "  'description': {'value': 'tätort i Burlövs kommun, Sverige',\n",
       "   'language': 'sv'}},\n",
       " 'repository': 'wikidata',\n",
       " 'concepturi': 'http://www.wikidata.org/entity/Q2402092',\n",
       " 'label': 'Åkarp',\n",
       " 'description': 'tätort i Burlövs kommun, Sverige',\n",
       " 'match': {'type': 'label', 'language': 'sv', 'text': 'Åkarp'}}"
      ]
     },
     "execution_count": 21,
     "metadata": {},
     "output_type": "execute_result"
    }
   ],
   "source": [
    "\n",
    "example_vectors = []\n",
    "for e in examples:\n",
    "    example_vectors.append(model.encode(e))\n",
    "\n",
    "scores = []\n",
    "for e in example_vectors:\n",
    "    cosine_similarity([e], vectors)[0]  # Look for the most similar vectors, manually score all vectors\n",
    "scores\n",
    "best_match_index = list(scores).index(max(scores))\n",
    "\n",
    "result[best_match_index]\n",
    "# top_scores_ids = np.argsort(scores)[-5:][::-1]  # Select top-5 with vectors the largest scores   \n",
    "\n"
   ]
  }
 ],
 "metadata": {
  "kernelspec": {
   "display_name": "base",
   "language": "python",
   "name": "python3"
  },
  "language_info": {
   "codemirror_mode": {
    "name": "ipython",
    "version": 3
   },
   "file_extension": ".py",
   "mimetype": "text/x-python",
   "name": "python",
   "nbconvert_exporter": "python",
   "pygments_lexer": "ipython3",
   "version": "3.10.3"
  }
 },
 "nbformat": 4,
 "nbformat_minor": 2
}
