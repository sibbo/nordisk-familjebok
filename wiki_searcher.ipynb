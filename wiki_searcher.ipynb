{
 "cells": [
  {
   "cell_type": "markdown",
   "metadata": {},
   "source": [
    "# Searching for articles in WikiData"
   ]
  },
  {
   "cell_type": "code",
   "execution_count": 34,
   "metadata": {},
   "outputs": [],
   "source": [
    "import requests\n",
    "\n",
    "WIKI_URL = 'https://query.wikidata.org/sparql'"
   ]
  },
  {
   "cell_type": "code",
   "execution_count": 69,
   "metadata": {},
   "outputs": [],
   "source": [
    "def search_wikidata(query):\n",
    "    url = \"https://www.wikidata.org/w/api.php\"\n",
    "    params = {\n",
    "        \"action\": \"wbsearchentities\",\n",
    "        \"format\": \"json\",\n",
    "        \"language\": \"sv\",  # Language of the search results\n",
    "\t\t\"Type\": 'item',\n",
    "        \"search\": query,\n",
    "    }\n",
    "    response = requests.get(url, params=params)\n",
    "    return response.json()"
   ]
  },
  {
   "cell_type": "code",
   "execution_count": 71,
   "metadata": {},
   "outputs": [
    {
     "name": "stdout",
     "output_type": "stream",
     "text": [
      "dict_keys(['warnings', 'searchinfo', 'search', 'search-continue', 'success'])\n",
      "{'search': 'Berlin'}\n",
      "{'id': 'Q200166', 'title': 'Q200166', 'pageid': 197061, 'display': {'label': {'value': 'Kitchener', 'language': 'en'}, 'description': {'value': 'city in Ontario, Canada', 'language': 'en'}}, 'repository': 'wikidata', 'url': '//www.wikidata.org/wiki/Q200166', 'concepturi': 'http://www.wikidata.org/entity/Q200166', 'label': 'Kitchener', 'description': 'city in Ontario, Canada', 'match': {'type': 'alias', 'language': 'sv', 'text': 'Berlin'}, 'aliases': ['Berlin']}\n"
     ]
    }
   ],
   "source": [
    "search_term = \"Berlin\"\n",
    "result = search_wikidata(search_term)"
   ]
  },
  {
   "cell_type": "code",
   "execution_count": 73,
   "metadata": {},
   "outputs": [
    {
     "name": "stdout",
     "output_type": "stream",
     "text": [
      "{'id': 'Q128746', 'title': 'Q128746', 'pageid': 130737, 'display': {'label': {'value': 'Irving Berlin', 'language': 'en'}, 'description': {'value': 'American composer and lyricist (1888–1989)', 'language': 'en'}}, 'repository': 'wikidata', 'url': '//www.wikidata.org/wiki/Q128746', 'concepturi': 'http://www.wikidata.org/entity/Q128746', 'label': 'Irving Berlin', 'description': 'American composer and lyricist (1888–1989)', 'match': {'type': 'alias', 'language': 'sv', 'text': 'Berlin'}, 'aliases': ['Berlin']}\n"
     ]
    }
   ],
   "source": [
    "print(result['search'][2])"
   ]
  }
 ],
 "metadata": {
  "kernelspec": {
   "display_name": "base",
   "language": "python",
   "name": "python3"
  },
  "language_info": {
   "codemirror_mode": {
    "name": "ipython",
    "version": 3
   },
   "file_extension": ".py",
   "mimetype": "text/x-python",
   "name": "python",
   "nbconvert_exporter": "python",
   "pygments_lexer": "ipython3",
   "version": "3.11.4"
  }
 },
 "nbformat": 4,
 "nbformat_minor": 2
}
