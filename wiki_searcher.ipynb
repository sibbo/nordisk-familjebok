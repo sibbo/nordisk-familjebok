{
 "cells": [
  {
   "cell_type": "markdown",
   "metadata": {},
   "source": [
    "# Searching for articles in WikiData"
   ]
  },
  {
   "cell_type": "code",
   "execution_count": 70,
   "metadata": {},
   "outputs": [],
   "source": [
    "import requests\n",
    "WIKIDATA_URL = \"https://www.wikidata.org/w/api.php\""
   ]
  },
  {
   "cell_type": "code",
   "execution_count": 71,
   "metadata": {},
   "outputs": [],
   "source": [
    "def search_wikidata(query):\n",
    "    params = {\n",
    "        \"action\": \"wbsearchentities\",\n",
    "        \"format\": \"json\",\n",
    "        \"language\": \"sv\",  # Language dictating how searches are made\n",
    "        \"uselang\": \"sv\",   # Language of item description\n",
    "        \"limit\": 50,       # Number of search results\n",
    "        \"search\": query,\n",
    "    }\n",
    "    response = requests.get(WIKIDATA_URL, params=params)\n",
    "    return response.json()['search']\n",
    "\n",
    "# Do something with the url\n",
    "def get_coordinates(item):\n",
    "    pass \n",
    "\n",
    "def search_location(query):\n",
    "    search_items = search_wikidata(query)\n",
    "    locations = []\n",
    "    for item in search_items:\n",
    "        item_id = item['id']\n",
    "        item_desc = item['display'].get('description', '')\n",
    "        item_coordinates = get_coordinates(item)\n",
    "        locations.append([item_id, item_desc, item_coordinates])\n",
    "    return locations\n"
   ]
  },
  {
   "cell_type": "code",
   "execution_count": 72,
   "metadata": {},
   "outputs": [],
   "source": [
    "search_term = \"berlin\"\n",
    "result = search_wikidata(search_term)"
   ]
  },
  {
   "cell_type": "code",
   "execution_count": 73,
   "metadata": {},
   "outputs": [
    {
     "name": "stdout",
     "output_type": "stream",
     "text": [
      "{'label': {'value': 'Berlin', 'language': 'sv'}, 'description': {'value': 'huvudstad och förbundsland i Tyskland', 'language': 'sv'}}\n",
      "{'label': {'value': 'Kitchener', 'language': 'sv'}, 'description': {'value': 'stad i Ontario, Kanada', 'language': 'sv'}}\n",
      "{'label': {'value': 'Irving Berlin', 'language': 'sv'}, 'description': {'value': 'amerikansk\\xa0kompositör\\xa0och textförfattare', 'language': 'sv'}}\n",
      "{'label': {'value': 'Berlin', 'language': 'sv'}, 'description': {'value': 'stad i Coos County, New Hampshire, USA', 'language': 'sv'}}\n",
      "{'label': {'value': 'Berlin', 'language': 'sv'}, 'description': {'value': 'amerikansk musikgrupp', 'language': 'sv'}}\n",
      "{'label': {'value': 'Berlin', 'language': 'sv'}, 'description': {'value': 'ort i Connecticut, USA', 'language': 'sv'}}\n",
      "{'label': {'value': 'Berlin', 'language': 'sv'}, 'description': {'value': 'efternamn', 'language': 'sv'}}\n",
      "{'label': {'value': 'Berlin', 'language': 'sv'}, 'description': {'value': 'ort i delstaten North Dakota, USA', 'language': 'sv'}}\n",
      "{'label': {'value': 'Berlin', 'language': 'sv'}, 'description': {'value': 'spansk action- och dramaserie från 2023', 'language': 'sv'}}\n",
      "{'label': {'value': 'Berlin, Maryland', 'language': 'sv'}, 'description': {'value': 'town in Maryland, United States', 'language': 'en'}}\n",
      "{'label': {'value': 'Wilhelm Berlin', 'language': 'sv'}, 'description': {'value': \"German general and Knight's Cross recipient (1889-1987)\", 'language': 'en'}}\n",
      "{'label': {'value': 'Berlin', 'language': 'en'}, 'description': {'value': 'city in Green Lake and Waushara counties, Wisconsin, United States', 'language': 'en'}}\n",
      "{'label': {'value': 'Berlin', 'language': 'en'}, 'description': {'value': 'borough in Camden County, New Jersey, United States', 'language': 'en'}}\n",
      "{'label': {'value': 'Humboldt-Universität zu Berlin', 'language': 'sv'}, 'description': {'value': 'offentligt universitet i Berlin, Tyskland', 'language': 'sv'}}\n",
      "{'label': {'value': 'Berlin', 'language': 'sv'}, 'description': {'value': 'könsneutralt namn', 'language': 'sv'}}\n",
      "{'label': {'value': 'Freie Universität Berlin', 'language': 'sv'}, 'description': {'value': 'public research university in Berlin, Germany', 'language': 'en'}}\n",
      "{'label': {'value': 'Berlin, Vermont', 'language': 'sv'}, 'description': {'value': 'town in Washington County, Vermont, United States', 'language': 'en'}}\n",
      "{'label': {'value': 'Berlin-Mitte', 'language': 'sv'}, 'description': {'value': 'stadsdelsområde i Berlin', 'language': 'sv'}}\n",
      "{'label': {'value': 'Berlin', 'language': 'sv'}, 'description': {'value': 'staden Berlin som den skildras i Star Treks multiversum', 'language': 'sv'}}\n",
      "{'label': {'value': 'Berlin', 'language': 'sv'}, 'description': {'value': 'före detta biograf i Stockholm', 'language': 'sv'}}\n",
      "{'label': {'value': 'Barrlinds fyr', 'language': 'sv'}, 'description': {'value': 'en fyr i Tjörns kommun', 'language': 'sv'}}\n",
      "{'label': {'value': 'Lincoln', 'language': 'sv'}, 'description': {'value': 'city in Iowa, United States', 'language': 'en'}}\n",
      "{'label': {'value': 'Berlin', 'language': 'sv'}}\n",
      "{'label': {'value': 'Berlin', 'language': 'sv'}, 'description': {'value': 'musical written by Erik Orton', 'language': 'en'}}\n",
      "{'label': {'value': 'Mitte', 'language': 'sv'}, 'description': {'value': 'stadsdel i Berlin', 'language': 'sv'}}\n",
      "{'label': {'value': 'Berlins Olympiastadion', 'language': 'sv'}, 'description': {'value': 'sportstadion i Berlin, Tyskland', 'language': 'sv'}}\n",
      "{'label': {'value': 'Charlottenburg', 'language': 'sv'}, 'description': {'value': 'stadsdel i Berlin, Tyskland', 'language': 'sv'}}\n",
      "{'label': {'value': 'Preussiska vetenskapsakademien', 'language': 'sv'}, 'description': {'value': 'academy of sciences', 'language': 'en'}}\n",
      "{'label': {'value': 'Berlin', 'language': 'en'}, 'description': {'value': 'town in Colquitt County, Georgia, United States', 'language': 'en'}}\n",
      "{'label': {'value': 'Berlin', 'language': 'en'}, 'description': {'value': 'borough in Pennsylvania, USA', 'language': 'en'}}\n",
      "{'label': {'value': 'Berlin', 'language': 'en'}, 'description': {'value': 'town in Massachusetts', 'language': 'en'}}\n",
      "{'label': {'value': 'Berlin', 'language': 'en'}, 'description': {'value': 'village in Illinois, U.S.', 'language': 'en'}}\n",
      "{'label': {'value': 'Kreuzberg', 'language': 'sv'}, 'description': {'value': 'locality of Berlin, Germany', 'language': 'en'}}\n",
      "{'label': {'value': 'Berlin', 'language': 'en'}, 'description': {'value': 'census-designated place in Holmes County, Ohio', 'language': 'en'}}\n",
      "{'label': {'value': 'Filmfestivalen i Berlin', 'language': 'sv'}, 'description': {'value': 'årlig filmfestival i Berlin, Tyskland', 'language': 'sv'}}\n",
      "{'label': {'value': 'Prenzlauer Berg', 'language': 'sv'}, 'description': {'value': 'locality of Berlin', 'language': 'en'}}\n",
      "{'label': {'value': 'Berlinare', 'language': 'sv'}, 'description': {'value': 'type of covered, fast and light, four-wheeled, travelling horse carriage with two interior seats and a separate hooded rear seat for a footman, detached from the body', 'language': 'en'}}\n",
      "{'label': {'value': 'Berlin (musikalbum)', 'language': 'sv'}, 'description': {'value': 'album av Lou Reed', 'language': 'sv'}}\n",
      "{'label': {'value': 'Friedrichshain', 'language': 'sv'}, 'description': {'value': 'stadsdel i Berlin', 'language': 'sv'}}\n",
      "{'label': {'value': 'Berlin', 'language': 'en'}, 'description': {'value': 'town in New York', 'language': 'en'}}\n",
      "{'label': {'value': 'Akademie der Künste', 'language': 'sv'}, 'description': {'value': 'national German academic institution for the advancement of the arts', 'language': 'en'}}\n",
      "{'label': {'value': 'Wilmersdorf', 'language': 'sv'}, 'description': {'value': 'locality of Berlin, Germany', 'language': 'en'}}\n",
      "{'label': {'value': 'Berlins tunnelbana', 'language': 'sv'}, 'description': {'value': 'tunnelbana i Berlin, Tyskland', 'language': 'sv'}}\n",
      "{'label': {'value': 'Berlin', 'language': 'en'}, 'description': {'value': 'fictional character from Money Heist', 'language': 'en'}}\n",
      "{'label': {'value': 'Berlins spårväg', 'language': 'sv'}, 'description': {'value': 'spårvägsnät', 'language': 'sv'}}\n",
      "{'label': {'value': 'Berlinische Galerie', 'language': 'sv'}, 'description': {'value': 'museum i Tyskland', 'language': 'sv'}}\n",
      "{'label': {'value': 'Berlins pendeltåg', 'language': 'sv'}, 'description': {'value': 'S-bahn pendeltåg i Berlin, Tyskland', 'language': 'sv'}}\n",
      "{'label': {'value': 'Berlin', 'language': 'en'}, 'description': {'value': 'town of Green Lake County, Wisconsin, USA', 'language': 'en'}}\n",
      "{'label': {'value': 'Berlin Township', 'language': 'en'}, 'description': {'value': 'township in Camden County, New Jersey', 'language': 'en'}}\n",
      "{'label': {'value': 'Dahlem', 'language': 'sv'}, 'description': {'value': 'locality of Berlin', 'language': 'en'}}\n"
     ]
    }
   ],
   "source": [
    "for search_item in result:\n",
    "    print(search_item['display'])"
   ]
  }
 ],
 "metadata": {
  "kernelspec": {
   "display_name": "base",
   "language": "python",
   "name": "python3"
  },
  "language_info": {
   "codemirror_mode": {
    "name": "ipython",
    "version": 3
   },
   "file_extension": ".py",
   "mimetype": "text/x-python",
   "name": "python",
   "nbconvert_exporter": "python",
   "pygments_lexer": "ipython3",
   "version": "3.11.4"
  }
 },
 "nbformat": 4,
 "nbformat_minor": 2
}
