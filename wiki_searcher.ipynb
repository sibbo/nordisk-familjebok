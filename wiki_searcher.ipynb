{
 "cells": [
  {
   "cell_type": "markdown",
   "metadata": {},
   "source": [
    "# Searching for articles in WikiData"
   ]
  },
  {
   "cell_type": "code",
   "execution_count": null,
   "metadata": {},
   "outputs": [],
   "source": [
    "import requests\n",
    "import json\n",
    "import numpy as np\n",
    "from qdrant_client import QdrantClient\n",
    "from tqdm.notebook import tqdm\n",
    "from sentence_transformers import SentenceTransformer\n",
    "from sklearn.metrics.pairwise import cosine_similarity\n",
    "\n",
    "WIKIDATA_URL = \"https://www.wikidata.org/w/api.php\"\n",
    "model = SentenceTransformer('KBLab/sentence-bert-swedish-cased', device='cpu')\n"
   ]
  },
  {
   "cell_type": "code",
   "execution_count": 29,
   "metadata": {},
   "outputs": [],
   "source": [
    "def search_wikidata(query):\n",
    "    params = {\n",
    "        \"action\": \"wbsearchentities\",\n",
    "        \"format\": \"json\",\n",
    "        \"language\": \"sv\",  # Language dictating how searches are made\n",
    "        \"uselang\": \"sv\",   # Language of item description\n",
    "        \"limit\": 10,       # Number of search results\n",
    "        \"search\": query,\n",
    "        \"props\": \"P625\"\n",
    "    }\n",
    "    response = requests.get(WIKIDATA_URL, params=params)\n",
    "    return response.json()['search']\n",
    "\n",
    "# def get_wikipedia_article_from_qid(qid: str):\n",
    "#     params = {\n",
    "#         \"action\": \"wbgetentities\",\n",
    "#         \"format\": \"json\",\n",
    "#         # \"lang\": \"sv\",  # Language dictating how searches are made\n",
    "#         \"props\": \"sitelinks\",\n",
    "#         \"ids\": qid,\n",
    "#         \"sitefilter\": \"svwiki\",\n",
    "#         # \"uselang\": \"sv\",   # Language of item description\n",
    "#         # \"limit\": 10,       # Number of search results\n",
    "#         # \"search\": query,\n",
    "#     }\n",
    "#     response = requests.get(WIKIDATA_URL, params=params)\n",
    "#     return response.json()\n",
    "\n",
    "def search_property(qid, prop='P625'):\n",
    "    params = {\n",
    "        \"action\": \"wbgetentities\",\n",
    "        \"format\": \"json\",\n",
    "        \"languages\": \"se\",\n",
    "        \"ids\": qid,\n",
    "        \"props\": \"claims\",\n",
    "    }\n",
    "    response = requests.get(WIKIDATA_URL, params=params)\n",
    "    data = response.json()['entities'].get(qid)\n",
    "    if not data:\n",
    "        print(f\"QID: {qid} was not found\")\n",
    "        return None\n",
    "\n",
    "    prop_claim = data['claims'].get(prop)\n",
    "    if not prop_claim:\n",
    "        print(f\"Entity: {qid} does not have property: {prop}\")\n",
    "        return None\n",
    "\n",
    "    prop_value = prop_claim[0]['mainsnak']['datavalue']['value']\n",
    "    return prop_value\n",
    "\n",
    "def get_qid(entity):\n",
    "    return entity['id']\n",
    "\n",
    "def get_description(entity):\n",
    "    return entity.get('display', '').get('description', '').get('value', '')\n"
   ]
  },
  {
   "cell_type": "code",
   "execution_count": 31,
   "metadata": {},
   "outputs": [
    {
     "data": {
      "text/plain": [
       "{'headword': 'A',\n",
       " 'entryid': 'e1_aa_9_0',\n",
       " 'text': '<b>A</b> är den första <i>bokstafven</i> i alla indoeuropeiska språks alfabet utom i den vanliga runföljden, der det innehar det tionde rummet.  Det är tillika det renaste och klaraste af alla <i>språ',\n",
       " 'type': 0,\n",
       " 'qid': '0',\n",
       " 'second_edition_key': 'e2_ba_13_0',\n",
       " 'fourth_edition_key': ''}"
      ]
     },
     "execution_count": 31,
     "metadata": {},
     "output_type": "execute_result"
    }
   ],
   "source": [
    "with open('e1_linked.json', 'r', encoding='utf-8') as infile:\n",
    "    e1_items = json.loads(infile.read())\n",
    "e1_items[0]\n",
    "# examples = [\n",
    "#     [\"Paris\", \"<b>Paris</b> [franskt utt. pari], Frankrikes hufvudstad, näst London Europas folkrikaste stad, ligger under 2° 20' 15\\\" ö. lgd samt 48° 50' 11,2\\\" n. br. (nationalobservatoriet), på båda sidor om Seine,\"],\n",
    "#     [\"Fantasi\", \"<b>Fantasi</b> (Grek. <i>fantasia,</i> af <i>fantazein,</i> göra synbar), föreställningsförmåga, inbillningskraft; diktningsgåfva; inbillning, infall, nyck, hugskott; feberdröm; musikstycke utan bestä\"],\n",
    "#     [\"Åkarp\", \"<b>Åkarp.</b> 1. Socknar. Se Norra Åkarp och Södra Åkarp. - 2. Municipalsamhälle (jämlikt k. br. 21 nov. 1913) i Malmöhus län, Burlöfs och Tottarps socknar, beläget vid statens järnvägar, 8 km. från L\"],\n",
    "# ]"
   ]
  },
  {
   "cell_type": "code",
   "execution_count": null,
   "metadata": {},
   "outputs": [],
   "source": [
    "# search_term = \"åkarp\"\n",
    "# result = search_wikidata(search_term)\n",
    "\n",
    "# for search_item in result:\n",
    "#     print(search_item)"
   ]
  },
  {
   "cell_type": "markdown",
   "metadata": {},
   "source": [
    "## Compare with wikidata description for comparison of cosine similarity"
   ]
  },
  {
   "cell_type": "code",
   "execution_count": null,
   "metadata": {},
   "outputs": [
    {
     "data": {
      "application/vnd.jupyter.widget-view+json": {
       "model_id": "a7e98a090f4949d39869916289ed27b4",
       "version_major": 2,
       "version_minor": 0
      },
      "text/plain": [
       "0it [00:00, ?it/s]"
      ]
     },
     "metadata": {},
     "output_type": "display_data"
    },
    {
     "ename": "KeyError",
     "evalue": "1",
     "output_type": "error",
     "traceback": [
      "\u001b[1;31m---------------------------------------------------------------------------\u001b[0m",
      "\u001b[1;31mKeyError\u001b[0m                                  Traceback (most recent call last)",
      "Input \u001b[1;32mIn [32]\u001b[0m, in \u001b[0;36m<cell line: 4>\u001b[1;34m()\u001b[0m\n\u001b[0;32m     11\u001b[0m     \u001b[38;5;28;01melse\u001b[39;00m:\n\u001b[0;32m     12\u001b[0m         vectors\u001b[38;5;241m.\u001b[39mappend([\u001b[38;5;241m0\u001b[39m] \u001b[38;5;241m*\u001b[39m \u001b[38;5;241m768\u001b[39m)\n\u001b[1;32m---> 14\u001b[0m example_vector \u001b[38;5;241m=\u001b[39m model\u001b[38;5;241m.\u001b[39mencode(\u001b[43mitem\u001b[49m\u001b[43m[\u001b[49m\u001b[38;5;241;43m1\u001b[39;49m\u001b[43m]\u001b[49m)\n\u001b[0;32m     15\u001b[0m scores \u001b[38;5;241m=\u001b[39m cosine_similarity([example_vector], vectors)[\u001b[38;5;241m0\u001b[39m]\n\u001b[0;32m     17\u001b[0m best_match_index \u001b[38;5;241m=\u001b[39m \u001b[38;5;28mlist\u001b[39m(scores)\u001b[38;5;241m.\u001b[39mindex(\u001b[38;5;28mmax\u001b[39m(scores))\n",
      "\u001b[1;31mKeyError\u001b[0m: 1"
     ]
    }
   ],
   "source": [
    "# take the description of each item, compute embedding with kb-sbert\n",
    "# where should we take the data from? qdrant or json or what\n",
    "results = []\n",
    "iterations = 0\n",
    "for e in examples:\n",
    "    iterations += 1\n",
    "    if iterations > 100:\n",
    "        break\n",
    "    search_term = e['headword']\n",
    "    if search_term == \"\":\n",
    "        vectors.append([0] * 768)\n",
    "        continue\n",
    "    result = search_wikidata(search_term)\n",
    "    result = search_wikidata(search_term)\n",
    "    vectors = []\n",
    "    for item in tqdm(result):\n",
    "        if \"description\" in item.keys():\n",
    "            vectors.append(model.encode(item[\"description\"]).tolist())\n",
    "        else:\n",
    "            vectors.append([0] * 768)\n",
    "    \n",
    "    example_vector = model.encode(e['text'])\n",
    "    scores = cosine_similarity([example_vector], vectors)[0]\n",
    "\n",
    "    best_match_index = list(scores).index(max(scores))\n",
    "\n",
    "    qid = get_qid(result[best_match_index])\n",
    "    coords = search_property(qid)\n",
    "    if coords == None:\n",
    "        print(f\"{e[0]}: None\")\n",
    "    else:\n",
    "        print(f\"{e[0]}: {coords['latitude']}, {coords['longitude']}\")\n",
    "\n",
    "    # results.append(result[best_match_index])\n",
    "\n",
    "# results\n",
    "\n",
    "# return the one with the highest cosine sim\n",
    "# if it has P625 property (coordinate location), edit something\n",
    "# edit the qdrant or json or smth\n"
   ]
  },
  {
   "cell_type": "code",
   "execution_count": 21,
   "metadata": {},
   "outputs": [
    {
     "data": {
      "text/plain": [
       "{'id': 'Q2402092',\n",
       " 'title': 'Q2402092',\n",
       " 'pageid': 2320476,\n",
       " 'display': {'label': {'value': 'Åkarp', 'language': 'sv'},\n",
       "  'description': {'value': 'tätort i Burlövs kommun, Sverige',\n",
       "   'language': 'sv'}},\n",
       " 'repository': 'wikidata',\n",
       " 'concepturi': 'http://www.wikidata.org/entity/Q2402092',\n",
       " 'label': 'Åkarp',\n",
       " 'description': 'tätort i Burlövs kommun, Sverige',\n",
       " 'match': {'type': 'label', 'language': 'sv', 'text': 'Åkarp'}}"
      ]
     },
     "execution_count": 21,
     "metadata": {},
     "output_type": "execute_result"
    }
   ],
   "source": [
    "\n",
    "example_vectors = []\n",
    "for e in examples:\n",
    "    example_vectors.append(model.encode(e))\n",
    "\n",
    "scores = []\n",
    "for e in example_vectors:\n",
    "    cosine_similarity([e], vectors)[0]  # Look for the most similar vectors, manually score all vectors\n",
    "scores\n",
    "best_match_index = list(scores).index(max(scores))\n",
    "\n",
    "result[best_match_index]\n",
    "# top_scores_ids = np.argsort(scores)[-5:][::-1]  # Select top-5 with vectors the largest scores   \n",
    "\n"
   ]
  }
 ],
 "metadata": {
  "kernelspec": {
   "display_name": "base",
   "language": "python",
   "name": "python3"
  },
  "language_info": {
   "codemirror_mode": {
    "name": "ipython",
    "version": 3
   },
   "file_extension": ".py",
   "mimetype": "text/x-python",
   "name": "python",
   "nbconvert_exporter": "python",
   "pygments_lexer": "ipython3",
   "version": "3.8.5"
  }
 },
 "nbformat": 4,
 "nbformat_minor": 2
}
