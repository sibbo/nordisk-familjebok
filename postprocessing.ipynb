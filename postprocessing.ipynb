{
 "cells": [
  {
   "cell_type": "markdown",
   "metadata": {},
   "source": [
    "# Post procesing of the json-files\n",
    "- Remove articles in false order\n",
    "- Linking cross references"
   ]
  },
  {
   "cell_type": "code",
   "execution_count": null,
   "metadata": {},
   "outputs": [],
   "source": [
    "from tqdm.notebook import tqdm\n",
    "import re\n",
    "import json\n",
    "import bisect\n",
    "\n",
    "edition_test = 'cross_test'\n",
    "e1 = 'e1'\n",
    "e2 = 'e2'"
   ]
  },
  {
   "cell_type": "code",
   "execution_count": null,
   "metadata": {},
   "outputs": [],
   "source": [
    "# Get entries from json file\n",
    "def get_entries(edition_name: str) -> list[dict]:\n",
    "    with open(f\"{edition_name}.json\", 'r', encoding='utf-8') as infile:\n",
    "        entries = json.loads(infile.read())\n",
    "    return entries\n",
    "\n",
    "# Write entries to json file\n",
    "def dump_entries(entries: list[dict], edition_name: str) -> None:\n",
    "    with open(f\"{edition_name}.json\", 'w', encoding='utf-8') as outfile:\n",
    "        json.dump(entries, outfile, ensure_ascii=False, indent=4)\n",
    "\n",
    "# Get reference word (what is after 'Se ')\n",
    "def get_ref_word(text: str) -> str:\n",
    "    match = re.search(r'Se\\s+([^.]+)\\.', text)\n",
    "    if match:\n",
    "        return match.group(1).strip()\n",
    "    return \"\"\n",
    "\n",
    "# Find index of headword\n",
    "def binary_search(arr, target):\n",
    "    index = bisect.bisect_left(arr, target)\n",
    "    if index != len(arr) and arr[index] == target:\n",
    "        return index\n",
    "    return -1\n",
    "\n",
    "# Cross reference linking logic\n",
    "def cross_link(edition_name: str) -> None:\n",
    "    entries = get_entries(edition_name)\n",
    "    headwords = [entry['headword'] for entry in tqdm(entries, desc=\"Retrieving Headwords\")]\n",
    "\n",
    "    # Assign cross references\n",
    "    for entry in tqdm(entries, desc=\"Finding cross references\"):\n",
    "        if entry['is_cross_ref']:\n",
    "            ref_word = get_ref_word(entry['text'])\n",
    "            idx = binary_search(headwords, ref_word)\n",
    "            if idx != -1:\n",
    "                entry['cross_id'] = entries[idx]['entryid']\n",
    "                continue\n",
    "        else: # REMOVE IF ENTRIES ALREADY HAVE KEY 'CROSS_ID'\n",
    "            entry['cross_id'] = ''\n",
    "    \n",
    "    dump_entries(entries, edition_name)"
   ]
  },
  {
   "cell_type": "code",
   "execution_count": null,
   "metadata": {},
   "outputs": [],
   "source": [
    "cross_link(edition_test)"
   ]
  }
 ],
 "metadata": {
  "kernelspec": {
   "display_name": "base",
   "language": "python",
   "name": "python3"
  },
  "language_info": {
   "codemirror_mode": {
    "name": "ipython",
    "version": 3
   },
   "file_extension": ".py",
   "mimetype": "text/x-python",
   "name": "python",
   "nbconvert_exporter": "python",
   "pygments_lexer": "ipython3",
   "version": "3.11.4"
  }
 },
 "nbformat": 4,
 "nbformat_minor": 2
}
