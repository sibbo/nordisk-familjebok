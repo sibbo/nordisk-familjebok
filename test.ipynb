{
 "cells": [
  {
   "cell_type": "code",
   "execution_count": null,
   "metadata": {},
   "outputs": [],
   "source": [
    "from urllib.request import urlopen\n",
    "\n",
    "DELIM_BEGIN = \"<!-- mode=normal -->\"\n",
    "DELIM_END = \"<!-- NEWIMAGE2 -->\""
   ]
  },
  {
   "cell_type": "code",
   "execution_count": null,
   "metadata": {},
   "outputs": [],
   "source": [
    "def get_substring_between_delimiters(s: str, start: str, end: str):\n",
    "    start_index = s.find(start)\n",
    "    if start_index == -1:\n",
    "        return None\n",
    "    start_index += len(start)\n",
    "    end_index = s.find(end, start_index)\n",
    "    if end_index == -1:\n",
    "        return None\n",
    "\n",
    "    return s[start_index: end_index]\n",
    "\n",
    "def clean(s: str, tag: str):\n",
    "    return s.replace(tag, '')\n",
    "\n",
    "def scrape_page(url: str) -> str:\n",
    "    try:\n",
    "        page = urlopen(url)\n",
    "    except:\n",
    "        return None\n",
    "    html = page.read().decode(\"utf-8\")\n",
    "    html = get_substring_between_delimiters(html, DELIM_BEGIN, DELIM_END)\n",
    "    if not html == None:\n",
    "        html = clean(html, \"<br>\")\n",
    "    # print(html)\n",
    "    return html\n",
    "\n",
    "def create_url(partial_url: str, i: int):\n",
    "    return partial_url + f\"{i:04d}\" + \".html\"\n",
    "\n",
    "def scrape_volume(volume_start_number: int, base_url: str):\n",
    "    i = volume_start_number\n",
    "    volume_pages: list[str] = []\n",
    "    while(True):\n",
    "        url = create_url(base_url, i)\n",
    "        text = scrape_page(url)\n",
    "        if text == None:\n",
    "            break\n",
    "        volume_pages.append(text)\n",
    "        print(f\"i = {i}: {volume_pages[i - volume_start_number][:10]}\")\n",
    "        i += 1\n",
    "        # if i > volume_end_number:\n",
    "        #     break\n",
    "    return volume_pages"
   ]
  },
  {
   "cell_type": "markdown",
   "metadata": {},
   "source": [
    "## Getting the second edition (ugglan)"
   ]
  },
  {
   "cell_type": "code",
   "execution_count": null,
   "metadata": {},
   "outputs": [],
   "source": [
    "base_url = \"https://runeberg.org/nf\"\n",
    "\n",
    "uggla_url_range = {\n",
    "    'b': \"abcdefghijklmnopqrst\",\n",
    "    'c': \"abcdefghijklmn\",\n",
    "}\n",
    "\n",
    "#first two volumes start on this number\n",
    "volume_start_number_ba_bb = 795 #13\n",
    "\n",
    "#the rest start on this one\n",
    "volume_start_number = 780\n",
    "\n",
    "#check if start is equal to this?\n",
    "first_page = \"NORDISK FAMILJEBOK\"\n",
    "\n",
    "volume_pages = []\n",
    "\n",
    "#main loop\n",
    "for first_letter in ('b', 'c'):\n",
    "    for second_letter in uggla_url_range[first_letter]:\n",
    "        volume_index = first_letter + second_letter\n",
    "        print(f\"volume index: {volume_index}\")\n",
    "        volume_url = base_url + volume_index + \"/\"\n",
    "        print(volume_url)\n",
    "        if volume_index in [\"ba\", \"bb\"]:\n",
    "            \n",
    "            volume_pages += scrape_volume(volume_start_number_ba_bb, volume_url)\n",
    "        else:\n",
    "            volume_pages += scrape_volume(volume_start_number, volume_url)\n",
    "\n",
    "volume_pages\n",
    "\n",
    "#vi måste se till att vi inte har shit in så vi inte får shit out\n",
    "#hur vet vi att det är ett uppslagsord?\n",
    "# de flesta verkar ha två newlines, och i många fall fetstilt, men inte alltid\n",
    "# exempel malmö, en deltitel på en längre artikel har nästan samma format\n",
    "# som en helt egen artikel, två newlines\n",
    "\n",
    "#två newlines (alltid)\n",
    "#stor bokstav (nästan alltid)\n",
    "#fetstilt (ofta om korrekturläst)\n",
    "#komma eller punkt efter uppslagsordet/orden eller efter några förtydliganden\n",
    "\n",
    "#familjenamn under samma uppslag\n",
    "\n",
    "# sammanfattning: vi behöver inte en perfekt uppdelning, men ta detta i åtanke\n",
    "# och gör den så bra som möjligt, kanske tänk igenom\n",
    "\n",
    "# läs igenom alfreds källor och deras artikel mer på djupet\n",
    "\n",
    "#uppgeupplaga: fetstilt (<b>ord</b>)\n",
    "#fjärde: newlines"
   ]
  },
  {
   "cell_type": "code",
   "execution_count": null,
   "metadata": {},
   "outputs": [],
   "source": [
    "volume_pages[0]"
   ]
  }
 ],
 "metadata": {
  "kernelspec": {
   "display_name": "Python 3",
   "language": "python",
   "name": "python3"
  },
  "language_info": {
   "codemirror_mode": {
    "name": "ipython",
    "version": 3
   },
   "file_extension": ".py",
   "mimetype": "text/x-python",
   "name": "python",
   "nbconvert_exporter": "python",
   "pygments_lexer": "ipython3",
   "version": "3.10.3"
  }
 },
 "nbformat": 4,
 "nbformat_minor": 2
}
