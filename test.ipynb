{
 "cells": [
  {
   "cell_type": "code",
   "execution_count": 3,
   "metadata": {},
   "outputs": [],
   "source": [
    "import json\n",
    "import numpy as np\n",
    "import joblib\n",
    "from sklearn.linear_model import LogisticRegression\n",
    "from sklearn.model_selection import train_test_split\n",
    "from sklearn.metrics import accuracy_score, confusion_matrix"
   ]
  },
  {
   "cell_type": "code",
   "execution_count": 4,
   "metadata": {},
   "outputs": [
    {
     "name": "stdout",
     "output_type": "stream",
     "text": [
      "[[1, 'Kromatik (se Kromatisk), färglära; mus., (ymnigt) användande af kromatiska tonföljder.', 0, 0, 0, 1, 1, 0, 0.00011706860220088972], [1, 'Kromatisk (af grek. chroma, färg, modulation), eg. färgad. - 1. Mus. Ett klangsläkte, hvars tetrakord bestodo af två halftoner och en liten ters, t. ex. a b h d, kallades a', 0, 0, 0, 1, 0, 1, 0.0012877546242097868], [1, 'Kromatisk adaptation, bot., vissa algers (Oscillatoria) förmåga att antaga komplementfärgen till färgen af det ljus, i hvilket de odlas.  G. L-m.', 0, 0, 0, 0, 0, 0, 0.0012877546242097868], [1, \"Kromatoforer (af grek. chroma, färg, och fo'ros, bärare), bot. Se Cell, sp. 1390.\", 0, 0, 0, 1, 0, 1, 0.00011706860220088972], [1, \"Kromatolys (af grek. chroma, färg, och ly'sis, upplösning), anat., förlust af cellkärnans färgbara innehåll (kromatin), hvarpå kan följa ett försvinnande af cellens kärna (\", 0, 0, 0, 1, 0, 0, 0.00011706860220088972]]\n"
     ]
    }
   ],
   "source": [
    "# load json\n",
    "with open('training_data.json', 'r', encoding='utf-8') as infile:\n",
    "    json_items = json.loads(infile.read())\n",
    "\n",
    "item_values = []\n",
    "\n",
    "for item in json_items:\n",
    "    item_class = item['class']\n",
    "    text = item['text']\n",
    "    punctuation_after_first_word = item['punctuation_after_first_word']\n",
    "    square_bracket = item['square_bracket']\n",
    "    square_bracket_with_punctuation = item['square_bracket_with_punctuation']\n",
    "    parentheses = item['parentheses']\n",
    "    parentheses_with_punctuation = item['parentheses_with_punctuation']\n",
    "    category_word = item['category_word']\n",
    "    first_word_frequency = item['first_word_frequency']\n",
    "    values = [\n",
    "        item_class, \n",
    "        text, \n",
    "        punctuation_after_first_word, \n",
    "        square_bracket, \n",
    "        square_bracket_with_punctuation, \n",
    "        parentheses, parentheses_with_punctuation,\n",
    "        category_word, \n",
    "        first_word_frequency,\n",
    "            ]\n",
    "    item_values.append(values)\n",
    "\n",
    "print(item_values[:5])"
   ]
  },
  {
   "cell_type": "code",
   "execution_count": 5,
   "metadata": {},
   "outputs": [],
   "source": [
    "# convert to feature matrix and y vector\n",
    "# all key-value pairs should be included except for text\n",
    "# class becomes the y vector\n",
    "X = np.array([])\n",
    "y = np.array([])\n",
    "\n",
    "for values in item_values:\n",
    "    X = np.vstack([X, values[2:]]) if X.size else np.array(values[2:])\n",
    "    y = np.append(y, values[0])\n",
    "\n",
    "# Split dataset into training and testing sets\n",
    "X_train, X_test, y_train, y_test = train_test_split(X, y, test_size=0.2, random_state=42)"
   ]
  },
  {
   "cell_type": "code",
   "execution_count": 6,
   "metadata": {},
   "outputs": [
    {
     "name": "stdout",
     "output_type": "stream",
     "text": [
      "(1, 7)\n",
      "(4680,)\n"
     ]
    }
   ],
   "source": [
    "print(np.array([X[0]]).shape)\n",
    "print(y.shape)"
   ]
  },
  {
   "cell_type": "code",
   "execution_count": 20,
   "metadata": {},
   "outputs": [
    {
     "data": {
      "text/plain": [
       "1.0"
      ]
     },
     "execution_count": 20,
     "metadata": {},
     "output_type": "execute_result"
    }
   ],
   "source": [
    "# Load the pre-trained logistic regression model from disk\n",
    "model = joblib.load('logistic_regression_model.pkl')\n",
    "\n",
    "# Now you can use the loaded model for prediction\n",
    "predictions = model.predict([X_test[0]])\n",
    "predictions[0]\n",
    "\n",
    "# Evaluate the model\n",
    "#accuracy = accuracy_score(y_test, predictions)\n",
    "#print(\"Accuracy:\", accuracy) "
   ]
  },
  {
   "cell_type": "code",
   "execution_count": 10,
   "metadata": {},
   "outputs": [
    {
     "name": "stdout",
     "output_type": "stream",
     "text": [
      "[[0.00000000e+00 0.00000000e+00 0.00000000e+00 1.00000000e+00\n",
      "  1.00000000e+00 0.00000000e+00 1.17068602e-04]]\n",
      "1.0\n"
     ]
    }
   ],
   "source": [
    "import classification_utils as cu\n",
    "line = \"Kromatik (se Kromatisk), färglära; mus., (ymnigt) användande af kromatiska tonföljder.\"\n",
    "x = cu.line_to_datapoint(line)\n",
    "print(x)\n",
    "model = joblib.load('logistic_regression_model.pkl')\n",
    "prediction = model.predict(x)[0]\n",
    "print(prediction)\n"
   ]
  }
 ],
 "metadata": {
  "kernelspec": {
   "display_name": "base",
   "language": "python",
   "name": "python3"
  },
  "language_info": {
   "codemirror_mode": {
    "name": "ipython",
    "version": 3
   },
   "file_extension": ".py",
   "mimetype": "text/x-python",
   "name": "python",
   "nbconvert_exporter": "python",
   "pygments_lexer": "ipython3",
   "version": "3.10.3"
  }
 },
 "nbformat": 4,
 "nbformat_minor": 2
}
