{
 "cells": [
  {
   "cell_type": "code",
   "execution_count": null,
   "metadata": {},
   "outputs": [],
   "source": [
    "import json\n",
    "import numpy as np\n",
    "import joblib\n",
    "from sklearn.linear_model import LogisticRegression\n",
    "from sklearn.model_selection import train_test_split\n",
    "from sklearn.metrics import accuracy_score, confusion_matrix"
   ]
  },
  {
   "cell_type": "code",
   "execution_count": null,
   "metadata": {},
   "outputs": [],
   "source": [
    "# load json\n",
    "with open('training_data.json', 'r', encoding='utf-8') as infile:\n",
    "    json_items = json.loads(infile.read())\n",
    "\n",
    "item_values = []\n",
    "\n",
    "for item in json_items:\n",
    "    item_class = item['class']\n",
    "    text = item['text']\n",
    "    punctuation_after_first_word = item['punctuation_after_first_word']\n",
    "    square_bracket = item['square_bracket']\n",
    "    square_bracket_with_punctuation = item['square_bracket_with_punctuation']\n",
    "    parentheses = item['parentheses']\n",
    "    parentheses_with_punctuation = item['parentheses_with_punctuation']\n",
    "    category_word = item['category_word']\n",
    "    first_word_frequency = item['first_word_frequency']\n",
    "    values = [\n",
    "        item_class, \n",
    "        text, \n",
    "        punctuation_after_first_word, \n",
    "        square_bracket, \n",
    "        square_bracket_with_punctuation, \n",
    "        parentheses, parentheses_with_punctuation,\n",
    "        category_word, \n",
    "        first_word_frequency,\n",
    "            ]\n",
    "    item_values.append(values)\n",
    "\n",
    "print(item_values[:5])"
   ]
  },
  {
   "cell_type": "code",
   "execution_count": null,
   "metadata": {},
   "outputs": [],
   "source": [
    "# convert to feature matrix and y vector\n",
    "# all key-value pairs should be included except for text\n",
    "# class becomes the y vector\n",
    "X = np.array([])\n",
    "y = np.array([])\n",
    "\n",
    "for values in item_values:\n",
    "    X = np.vstack([X, values[2:]]) if X.size else np.array(values[2:])\n",
    "    y = np.append(y, values[0])\n",
    "\n",
    "# Split dataset into training and testing sets\n",
    "X_train, X_test, y_train, y_test = train_test_split(X, y, test_size=0.2, random_state=42)"
   ]
  },
  {
   "cell_type": "code",
   "execution_count": null,
   "metadata": {},
   "outputs": [],
   "source": [
    "print(np.array([X[0]]).shape)\n",
    "print(y.shape)"
   ]
  },
  {
   "cell_type": "code",
   "execution_count": null,
   "metadata": {},
   "outputs": [],
   "source": [
    "# Load the pre-trained logistic regression model from disk\n",
    "model = joblib.load('logistic_regression_model.pkl')\n",
    "\n",
    "# Now you can use the loaded model for prediction\n",
    "predictions = model.predict([X_test[0]])\n",
    "predictions[0]\n",
    "\n",
    "# Evaluate the model\n",
    "#accuracy = accuracy_score(y_test, predictions)\n",
    "#print(\"Accuracy:\", accuracy) "
   ]
  },
  {
   "cell_type": "code",
   "execution_count": null,
   "metadata": {},
   "outputs": [],
   "source": [
    "import classification_utils as cu\n",
    "line = \"Kromatik (se Kromatisk), färglära; mus., (ymnigt) användande af kromatiska tonföljder.\"\n",
    "x = cu.line_to_datapoint(line)\n",
    "print(x)\n",
    "model = joblib.load('logistic_regression_model.pkl')\n",
    "prediction = model.predict(x)[0]\n",
    "print(prediction)\n"
   ]
  },
  {
   "cell_type": "code",
   "execution_count": null,
   "metadata": {},
   "outputs": [],
   "source": [
    "import regex_utils as ru\n",
    "import regex as re\n",
    "line = \"Zenta, stad i Jugoslavien\"\n",
    "print(ru.get_headword_from_index(line))\n",
    "# search = re.search(r\"^.{1,20}?[.,]\", line)\n",
    "# if search:\n",
    "#     print(\"hej\")"
   ]
  },
  {
   "cell_type": "code",
   "execution_count": null,
   "metadata": {},
   "outputs": [],
   "source": [
    "line = \"<b>Adolf Fredrik, <\"\n",
    "print(ru.get_headword_no_closing_bold_tag(line))"
   ]
  },
  {
   "cell_type": "code",
   "execution_count": 11,
   "metadata": {},
   "outputs": [
    {
     "name": "stdout",
     "output_type": "stream",
     "text": [
      "och dessu\n",
      "Katedralen i Chartres. <b>Chartres</b> [ʃārtr],\n",
      "och dessu\n",
      "och dessu\n",
      "<b>Chartres</b> [ʃārtr],\n",
      "och dessu\n"
     ]
    }
   ],
   "source": [
    "import regex as re\n",
    "\n",
    "with open(\"chartres.txt\", \"r\", encoding='utf-8') as f:\n",
    "    volume_string = f.read()\n",
    "    print(volume_string)\n",
    "    volume_string = re.sub(r'^.*?<b>', r'<b>', volume_string, flags = re.MULTILINE)\n",
    "    print(volume_string)"
   ]
  }
 ],
 "metadata": {
  "kernelspec": {
   "display_name": "base",
   "language": "python",
   "name": "python3"
  },
  "language_info": {
   "codemirror_mode": {
    "name": "ipython",
    "version": 3
   },
   "file_extension": ".py",
   "mimetype": "text/x-python",
   "name": "python",
   "nbconvert_exporter": "python",
   "pygments_lexer": "ipython3",
   "version": "3.10.3"
  }
 },
 "nbformat": 4,
 "nbformat_minor": 2
}
